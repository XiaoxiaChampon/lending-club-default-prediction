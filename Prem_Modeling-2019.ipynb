{
 "cells": [
  {
   "cell_type": "code",
   "execution_count": 1,
   "metadata": {
    "collapsed": true
   },
   "outputs": [],
   "source": [
    "import pandas as pd\n",
    "import numpy as np\n",
    "import matplotlib.pyplot as plt\n",
    "%matplotlib inline\n",
    "import xgboost as xgb\n",
    "import seaborn as sns"
   ]
  },
  {
   "cell_type": "code",
   "execution_count": 2,
   "metadata": {
    "collapsed": true
   },
   "outputs": [],
   "source": [
    "import gc\n",
    "gc.enable()"
   ]
  },
  {
   "cell_type": "markdown",
   "metadata": {},
   "source": [
    "## Load Data"
   ]
  },
  {
   "cell_type": "code",
   "execution_count": 3,
   "metadata": {},
   "outputs": [
    {
     "data": {
      "text/plain": [
       "0"
      ]
     },
     "execution_count": 3,
     "metadata": {},
     "output_type": "execute_result"
    }
   ],
   "source": [
    "gc.collect()"
   ]
  },
  {
   "cell_type": "code",
   "execution_count": 4,
   "metadata": {},
   "outputs": [
    {
     "name": "stderr",
     "output_type": "stream",
     "text": [
      "C:\\Users\\Weiqun\\Anaconda2\\lib\\site-packages\\IPython\\core\\interactiveshell.py:2718: DtypeWarning: Columns (16,37) have mixed types. Specify dtype option on import or set low_memory=False.\n",
      "  interactivity=interactivity, compiler=compiler, result=result)\n"
     ]
    }
   ],
   "source": [
    "df1 = pd.read_csv('loan_2016.csv')"
   ]
  },
  {
   "cell_type": "code",
   "execution_count": 5,
   "metadata": {},
   "outputs": [
    {
     "data": {
      "text/plain": [
       "(434407, 108)"
      ]
     },
     "execution_count": 5,
     "metadata": {},
     "output_type": "execute_result"
    }
   ],
   "source": [
    "df1.shape"
   ]
  },
  {
   "cell_type": "code",
   "execution_count": 6,
   "metadata": {},
   "outputs": [
    {
     "data": {
      "text/html": [
       "<div>\n",
       "<style>\n",
       "    .dataframe thead tr:only-child th {\n",
       "        text-align: right;\n",
       "    }\n",
       "\n",
       "    .dataframe thead th {\n",
       "        text-align: left;\n",
       "    }\n",
       "\n",
       "    .dataframe tbody tr th {\n",
       "        vertical-align: top;\n",
       "    }\n",
       "</style>\n",
       "<table border=\"1\" class=\"dataframe\">\n",
       "  <thead>\n",
       "    <tr style=\"text-align: right;\">\n",
       "      <th></th>\n",
       "      <th>secappopenactil</th>\n",
       "      <th>bcopentobuy</th>\n",
       "      <th>initialliststatus</th>\n",
       "      <th>numactvbctl</th>\n",
       "      <th>grade</th>\n",
       "      <th>mthssincelastrecord</th>\n",
       "      <th>totcurbal</th>\n",
       "      <th>secappnumrevaccts</th>\n",
       "      <th>secappmthssincelastmajorderog</th>\n",
       "      <th>subgrade</th>\n",
       "      <th>...</th>\n",
       "      <th>totalcutl</th>\n",
       "      <th>mthssincelastmajorderog</th>\n",
       "      <th>numtloppast12m</th>\n",
       "      <th>percentbcgt75</th>\n",
       "      <th>pubrecbankruptcies</th>\n",
       "      <th>ilutil</th>\n",
       "      <th>secappinqlast6mths</th>\n",
       "      <th>purpose</th>\n",
       "      <th>issued</th>\n",
       "      <th>loanstatus</th>\n",
       "    </tr>\n",
       "  </thead>\n",
       "  <tbody>\n",
       "    <tr>\n",
       "      <th>0</th>\n",
       "      <td>NaN</td>\n",
       "      <td>2168.0</td>\n",
       "      <td>f</td>\n",
       "      <td>7.0</td>\n",
       "      <td>C</td>\n",
       "      <td>NaN</td>\n",
       "      <td>15055.0</td>\n",
       "      <td>NaN</td>\n",
       "      <td>NaN</td>\n",
       "      <td>C2</td>\n",
       "      <td>...</td>\n",
       "      <td>0.0</td>\n",
       "      <td>NaN</td>\n",
       "      <td>1.0</td>\n",
       "      <td>37.5</td>\n",
       "      <td>0.0</td>\n",
       "      <td>NaN</td>\n",
       "      <td>NaN</td>\n",
       "      <td>debt_consolidation</td>\n",
       "      <td>Mar-2016</td>\n",
       "      <td>Fully Paid</td>\n",
       "    </tr>\n",
       "    <tr>\n",
       "      <th>1</th>\n",
       "      <td>NaN</td>\n",
       "      <td>12271.0</td>\n",
       "      <td>w</td>\n",
       "      <td>3.0</td>\n",
       "      <td>D</td>\n",
       "      <td>NaN</td>\n",
       "      <td>224465.0</td>\n",
       "      <td>NaN</td>\n",
       "      <td>NaN</td>\n",
       "      <td>D5</td>\n",
       "      <td>...</td>\n",
       "      <td>1.0</td>\n",
       "      <td>NaN</td>\n",
       "      <td>3.0</td>\n",
       "      <td>50.0</td>\n",
       "      <td>0.0</td>\n",
       "      <td>79.0</td>\n",
       "      <td>NaN</td>\n",
       "      <td>credit_card</td>\n",
       "      <td>Mar-2016</td>\n",
       "      <td>Current</td>\n",
       "    </tr>\n",
       "    <tr>\n",
       "      <th>2</th>\n",
       "      <td>NaN</td>\n",
       "      <td>33991.0</td>\n",
       "      <td>w</td>\n",
       "      <td>2.0</td>\n",
       "      <td>A</td>\n",
       "      <td>NaN</td>\n",
       "      <td>33681.0</td>\n",
       "      <td>NaN</td>\n",
       "      <td>NaN</td>\n",
       "      <td>A1</td>\n",
       "      <td>...</td>\n",
       "      <td>14.0</td>\n",
       "      <td>NaN</td>\n",
       "      <td>4.0</td>\n",
       "      <td>20.0</td>\n",
       "      <td>0.0</td>\n",
       "      <td>74.0</td>\n",
       "      <td>NaN</td>\n",
       "      <td>debt_consolidation</td>\n",
       "      <td>Mar-2016</td>\n",
       "      <td>Fully Paid</td>\n",
       "    </tr>\n",
       "    <tr>\n",
       "      <th>3</th>\n",
       "      <td>NaN</td>\n",
       "      <td>3215.0</td>\n",
       "      <td>w</td>\n",
       "      <td>3.0</td>\n",
       "      <td>D</td>\n",
       "      <td>NaN</td>\n",
       "      <td>189186.0</td>\n",
       "      <td>NaN</td>\n",
       "      <td>NaN</td>\n",
       "      <td>D5</td>\n",
       "      <td>...</td>\n",
       "      <td>3.0</td>\n",
       "      <td>NaN</td>\n",
       "      <td>5.0</td>\n",
       "      <td>100.0</td>\n",
       "      <td>0.0</td>\n",
       "      <td>92.0</td>\n",
       "      <td>NaN</td>\n",
       "      <td>debt_consolidation</td>\n",
       "      <td>Mar-2016</td>\n",
       "      <td>Charged Off</td>\n",
       "    </tr>\n",
       "    <tr>\n",
       "      <th>4</th>\n",
       "      <td>NaN</td>\n",
       "      <td>5048.0</td>\n",
       "      <td>w</td>\n",
       "      <td>3.0</td>\n",
       "      <td>C</td>\n",
       "      <td>NaN</td>\n",
       "      <td>167937.0</td>\n",
       "      <td>NaN</td>\n",
       "      <td>NaN</td>\n",
       "      <td>C1</td>\n",
       "      <td>...</td>\n",
       "      <td>0.0</td>\n",
       "      <td>NaN</td>\n",
       "      <td>2.0</td>\n",
       "      <td>50.0</td>\n",
       "      <td>0.0</td>\n",
       "      <td>NaN</td>\n",
       "      <td>NaN</td>\n",
       "      <td>credit_card</td>\n",
       "      <td>Mar-2016</td>\n",
       "      <td>Charged Off</td>\n",
       "    </tr>\n",
       "  </tbody>\n",
       "</table>\n",
       "<p>5 rows × 108 columns</p>\n",
       "</div>"
      ],
      "text/plain": [
       "   secappopenactil  bcopentobuy initialliststatus  numactvbctl grade  \\\n",
       "0              NaN       2168.0                 f          7.0     C   \n",
       "1              NaN      12271.0                 w          3.0     D   \n",
       "2              NaN      33991.0                 w          2.0     A   \n",
       "3              NaN       3215.0                 w          3.0     D   \n",
       "4              NaN       5048.0                 w          3.0     C   \n",
       "\n",
       "   mthssincelastrecord  totcurbal  secappnumrevaccts  \\\n",
       "0                  NaN    15055.0                NaN   \n",
       "1                  NaN   224465.0                NaN   \n",
       "2                  NaN    33681.0                NaN   \n",
       "3                  NaN   189186.0                NaN   \n",
       "4                  NaN   167937.0                NaN   \n",
       "\n",
       "   secappmthssincelastmajorderog subgrade     ...       totalcutl  \\\n",
       "0                            NaN       C2     ...             0.0   \n",
       "1                            NaN       D5     ...             1.0   \n",
       "2                            NaN       A1     ...            14.0   \n",
       "3                            NaN       D5     ...             3.0   \n",
       "4                            NaN       C1     ...             0.0   \n",
       "\n",
       "   mthssincelastmajorderog  numtloppast12m  percentbcgt75  pubrecbankruptcies  \\\n",
       "0                      NaN             1.0           37.5                 0.0   \n",
       "1                      NaN             3.0           50.0                 0.0   \n",
       "2                      NaN             4.0           20.0                 0.0   \n",
       "3                      NaN             5.0          100.0                 0.0   \n",
       "4                      NaN             2.0           50.0                 0.0   \n",
       "\n",
       "   ilutil secappinqlast6mths             purpose    issued   loanstatus  \n",
       "0     NaN                NaN  debt_consolidation  Mar-2016   Fully Paid  \n",
       "1    79.0                NaN         credit_card  Mar-2016      Current  \n",
       "2    74.0                NaN  debt_consolidation  Mar-2016   Fully Paid  \n",
       "3    92.0                NaN  debt_consolidation  Mar-2016  Charged Off  \n",
       "4     NaN                NaN         credit_card  Mar-2016  Charged Off  \n",
       "\n",
       "[5 rows x 108 columns]"
      ]
     },
     "execution_count": 6,
     "metadata": {},
     "output_type": "execute_result"
    }
   ],
   "source": [
    "df1[:5][:5]"
   ]
  },
  {
   "cell_type": "code",
   "execution_count": 7,
   "metadata": {
    "scrolled": true
   },
   "outputs": [
    {
     "name": "stdout",
     "output_type": "stream",
     "text": [
      "<class 'pandas.core.frame.DataFrame'>\n",
      "RangeIndex: 434407 entries, 0 to 434406\n",
      "Columns: 108 entries, secappopenactil to loanstatus\n",
      "dtypes: float64(88), int64(1), object(19)\n",
      "memory usage: 357.9+ MB\n"
     ]
    }
   ],
   "source": [
    "df1.info()"
   ]
  },
  {
   "cell_type": "code",
   "execution_count": null,
   "metadata": {
    "collapsed": true
   },
   "outputs": [],
   "source": []
  },
  {
   "cell_type": "markdown",
   "metadata": {},
   "source": [
    "## Select Data"
   ]
  },
  {
   "cell_type": "code",
   "execution_count": 8,
   "metadata": {
    "collapsed": true
   },
   "outputs": [],
   "source": [
    "all_null_feature =['secappopenactil',\n",
    " 'secappnumrevaccts',\n",
    " 'secappmthssincelastmajorderog',\n",
    " 'secappcollections12mthsexmed',\n",
    " 'revolbaljoint',\n",
    " 'secappopenacc',\n",
    " 'secappficorangelow',\n",
    " 'memberid',\n",
    " 'secappmortacc',\n",
    " 'secappearliestcrline',\n",
    " 'secappchargeoffwithin12mths',\n",
    " 'secapprevolutil',\n",
    " 'secappficorangehigh',\n",
    " 'secappinqlast6mths']"
   ]
  },
  {
   "cell_type": "code",
   "execution_count": 9,
   "metadata": {
    "collapsed": true
   },
   "outputs": [],
   "source": [
    "ob_feature=['initialliststatus',\n",
    " 'grade',\n",
    " 'subgrade',\n",
    " 'verificationstatusjoint',\n",
    " 'earliestcrline',\n",
    " 'applicationtype',\n",
    " 'intrate',\n",
    " 'desc',\n",
    " 'term',\n",
    " 'homeownership',\n",
    " 'addrstate',\n",
    " 'revolutil',\n",
    " 'zipcode',\n",
    " 'verificationstatus',\n",
    " 'emptitle',\n",
    " 'emplength',\n",
    " 'purpose',\n",
    " 'issued',\n",
    " 'loanstatus']"
   ]
  },
  {
   "cell_type": "code",
   "execution_count": 114,
   "metadata": {
    "collapsed": true
   },
   "outputs": [],
   "source": [
    "num_feature=['bcopentobuy',\n",
    " 'numactvbctl',\n",
    " 'mthssincelastrecord',\n",
    " 'totcurbal',\n",
    " 'mosinrcnttl',\n",
    " 'openrv12m',\n",
    " 'inqlast12m',\n",
    " 'mortacc',\n",
    " 'mthssincelastdelinq',\n",
    " 'numactvrevtl',\n",
    " 'tothicredlim',\n",
    " 'ficorangehigh',\n",
    " 'maxbalbc',\n",
    " 'openil24m',\n",
    " 'numbctl',\n",
    " 'totalrevhilim',\n",
    " 'totcollamt',\n",
    " 'numtl120dpd2m',\n",
    " 'totalbalexmort',\n",
    " 'annualincjoint',\n",
    " 'ficorangelow',\n",
    " 'totalacc',\n",
    " 'mthssincerecentbcdlq',\n",
    " 'installment',\n",
    " 'numrevaccts',\n",
    " 'pubrec',\n",
    " 'accopenpast24mths',\n",
    " 'numoprevtl',\n",
    " 'avgcurbal',\n",
    " 'openactil',\n",
    " 'dti',\n",
    " 'openacc6m',\n",
    " 'totalbalil',\n",
    " 'delinq2yrs',\n",
    " 'fundedamnt',\n",
    " 'mosinoldilacct',\n",
    " 'annualinc',\n",
    " 'inqfi',\n",
    " 'numtl30dpd',\n",
    " 'loanamnt',\n",
    " 'numsats',\n",
    " 'mthssincerecentrevoldelinq',\n",
    " 'mthssincerecentbc',\n",
    " 'id',\n",
    " 'revolbal',\n",
    " 'inqlast6mths',\n",
    " 'mthssincercntil',\n",
    " 'openrv24m',\n",
    " 'totalilhighcreditlimit',\n",
    " 'collections12mthsexmed',\n",
    " 'chargeoffwithin12mths',\n",
    " 'numtl90gdpd24m',\n",
    " 'delinqamnt',\n",
    " 'mosinoldrevtlop',\n",
    " 'taxliens',\n",
    " 'numbcsats',\n",
    " 'totalbclimit',\n",
    " 'dtijoint',\n",
    " 'numacctsever120pd',\n",
    " 'accnowdelinq',\n",
    " 'openil12m',\n",
    " 'pcttlnvrdlq',\n",
    " 'bcutil',\n",
    " 'mthssincerecentinq',\n",
    " 'numiltl',\n",
    " 'mosinrcntrevtlop',\n",
    " 'allutil',\n",
    " 'openacc',\n",
    " 'numrevtlbalgt0',\n",
    " 'totalcutl',\n",
    " 'mthssincelastmajorderog',\n",
    " 'numtloppast12m',\n",
    " 'percentbcgt75',\n",
    " 'pubrecbankruptcies',\n",
    " 'ilutil']"
   ]
  },
  {
   "cell_type": "code",
   "execution_count": 11,
   "metadata": {},
   "outputs": [
    {
     "data": {
      "text/plain": [
       "94"
      ]
     },
     "execution_count": 11,
     "metadata": {},
     "output_type": "execute_result"
    }
   ],
   "source": [
    "select_feature=ob_feature+num_feature\n",
    "len(select_feature)"
   ]
  },
  {
   "cell_type": "code",
   "execution_count": 12,
   "metadata": {
    "collapsed": true
   },
   "outputs": [],
   "source": [
    "# remove fundedamnt since it always equals to 1 for issued loans and varied during different time of a current loan\n",
    "\n",
    "num_feature.remove('fundedamnt')\n"
   ]
  },
  {
   "cell_type": "code",
   "execution_count": 13,
   "metadata": {
    "collapsed": true
   },
   "outputs": [],
   "source": [
    "# remove 'id','issued' and 'loanstatus', since they are index, train/test flag and target\n",
    "num_feature.remove('id')\n",
    "ob_feature.remove('loanstatus')\n",
    "ob_feature.remove('issued')\n"
   ]
  },
  {
   "cell_type": "code",
   "execution_count": 14,
   "metadata": {
    "collapsed": true
   },
   "outputs": [],
   "source": [
    "# remove 'desc' from ob_feature and select_feature\n",
    "ob_feature.remove('desc')\n"
   ]
  },
  {
   "cell_type": "code",
   "execution_count": 15,
   "metadata": {},
   "outputs": [
    {
     "data": {
      "text/plain": [
       "89"
      ]
     },
     "execution_count": 15,
     "metadata": {},
     "output_type": "execute_result"
    }
   ],
   "source": [
    "select_feature=ob_feature+num_feature\n",
    "len(select_feature)"
   ]
  },
  {
   "cell_type": "code",
   "execution_count": 16,
   "metadata": {
    "collapsed": true
   },
   "outputs": [],
   "source": [
    "# selected features left\n",
    "df=df1[select_feature+['id','loanstatus','issued']]"
   ]
  },
  {
   "cell_type": "code",
   "execution_count": 17,
   "metadata": {},
   "outputs": [
    {
     "data": {
      "text/plain": [
       "(434407, 92)"
      ]
     },
     "execution_count": 17,
     "metadata": {},
     "output_type": "execute_result"
    }
   ],
   "source": [
    "df.shape"
   ]
  },
  {
   "cell_type": "markdown",
   "metadata": {},
   "source": [
    "## only use term=36 months and loanstatus = fully paid and charged off"
   ]
  },
  {
   "cell_type": "code",
   "execution_count": 18,
   "metadata": {
    "collapsed": true
   },
   "outputs": [],
   "source": [
    "df = df.query(\"loanstatus == 'Fully Paid' or loanstatus == 'Charged Off' \")"
   ]
  },
  {
   "cell_type": "code",
   "execution_count": 19,
   "metadata": {
    "collapsed": true
   },
   "outputs": [],
   "source": [
    "df = df.query(\"term ==' 36 months'\")"
   ]
  },
  {
   "cell_type": "code",
   "execution_count": 20,
   "metadata": {},
   "outputs": [
    {
     "data": {
      "text/plain": [
       "(295807, 92)"
      ]
     },
     "execution_count": 20,
     "metadata": {},
     "output_type": "execute_result"
    }
   ],
   "source": [
    "df.shape"
   ]
  },
  {
   "cell_type": "code",
   "execution_count": 21,
   "metadata": {
    "collapsed": true
   },
   "outputs": [],
   "source": [
    "ob_feature.remove('term')"
   ]
  },
  {
   "cell_type": "code",
   "execution_count": 22,
   "metadata": {},
   "outputs": [
    {
     "data": {
      "text/plain": [
       "(295807, 92)"
      ]
     },
     "execution_count": 22,
     "metadata": {},
     "output_type": "execute_result"
    }
   ],
   "source": [
    "df.shape"
   ]
  },
  {
   "cell_type": "markdown",
   "metadata": {},
   "source": [
    "## Label Target"
   ]
  },
  {
   "cell_type": "code",
   "execution_count": 23,
   "metadata": {
    "collapsed": true
   },
   "outputs": [],
   "source": [
    "df['loanstatus'] = df.loanstatus.map({\"Charged Off\": 1, \"Fully Paid\": 0})"
   ]
  },
  {
   "cell_type": "code",
   "execution_count": 24,
   "metadata": {},
   "outputs": [
    {
     "name": "stdout",
     "output_type": "stream",
     "text": [
      "0    245786\n",
      "1     50021\n",
      "Name: loanstatus, dtype: int64\n",
      "0    0.8309\n",
      "1    0.1691\n",
      "Name: loanstatus, dtype: float64\n"
     ]
    }
   ],
   "source": [
    "print df.loanstatus.value_counts()\n",
    "print df.loanstatus.value_counts(normalize=True)"
   ]
  },
  {
   "cell_type": "code",
   "execution_count": null,
   "metadata": {
    "collapsed": true
   },
   "outputs": [],
   "source": []
  },
  {
   "cell_type": "markdown",
   "metadata": {},
   "source": [
    "## Out of time testing set and in-time training set: Oct~Dec as test)"
   ]
  },
  {
   "cell_type": "code",
   "execution_count": 25,
   "metadata": {},
   "outputs": [
    {
     "data": {
      "text/plain": [
       "['Mar-2016',\n",
       " 'Feb-2016',\n",
       " 'Jan-2016',\n",
       " 'Jun-2016',\n",
       " 'May-2016',\n",
       " 'Apr-2016',\n",
       " 'Sep-2016',\n",
       " 'Aug-2016',\n",
       " 'Jul-2016',\n",
       " 'Dec-2016',\n",
       " 'Nov-2016',\n",
       " 'Oct-2016']"
      ]
     },
     "execution_count": 25,
     "metadata": {},
     "output_type": "execute_result"
    }
   ],
   "source": [
    "issued=list(df['issued'].unique())\n",
    "issued"
   ]
  },
  {
   "cell_type": "code",
   "execution_count": 26,
   "metadata": {},
   "outputs": [
    {
     "data": {
      "text/plain": [
       "Mar-2016    44825\n",
       "Feb-2016    28609\n",
       "Apr-2016    28086\n",
       "Aug-2016    26703\n",
       "Jul-2016    25218\n",
       "Jun-2016    24513\n",
       "Jan-2016    22672\n",
       "May-2016    21791\n",
       "Dec-2016    18726\n",
       "Sep-2016    18697\n",
       "Oct-2016    17986\n",
       "Nov-2016    17981\n",
       "Name: issued, dtype: int64"
      ]
     },
     "execution_count": 26,
     "metadata": {},
     "output_type": "execute_result"
    }
   ],
   "source": [
    "df.issued.value_counts()"
   ]
  },
  {
   "cell_type": "code",
   "execution_count": 27,
   "metadata": {},
   "outputs": [
    {
     "data": {
      "text/plain": [
       "1    241114\n",
       "0     54693\n",
       "Name: train_flg, dtype: int64"
      ]
     },
     "execution_count": 27,
     "metadata": {},
     "output_type": "execute_result"
    }
   ],
   "source": [
    "df['train_flg'] = df.issued.apply(lambda x: 0 if x in ['Oct-2016','Nov-2016','Dec-2016'] else 1)\n",
    "df.train_flg.value_counts()"
   ]
  },
  {
   "cell_type": "markdown",
   "metadata": {},
   "source": [
    "## Feature Engineering & Cleaning"
   ]
  },
  {
   "cell_type": "markdown",
   "metadata": {},
   "source": [
    "#### Datetime to numeric feature"
   ]
  },
  {
   "cell_type": "code",
   "execution_count": 28,
   "metadata": {},
   "outputs": [
    {
     "data": {
      "text/plain": [
       "['initialliststatus',\n",
       " 'grade',\n",
       " 'subgrade',\n",
       " 'verificationstatusjoint',\n",
       " 'earliestcrline',\n",
       " 'applicationtype',\n",
       " 'intrate',\n",
       " 'homeownership',\n",
       " 'addrstate',\n",
       " 'revolutil',\n",
       " 'zipcode',\n",
       " 'verificationstatus',\n",
       " 'emptitle',\n",
       " 'emplength',\n",
       " 'purpose']"
      ]
     },
     "execution_count": 28,
     "metadata": {},
     "output_type": "execute_result"
    }
   ],
   "source": [
    "ob_feature"
   ]
  },
  {
   "cell_type": "code",
   "execution_count": 29,
   "metadata": {},
   "outputs": [
    {
     "data": {
      "text/plain": [
       "array(['May-2006', 'Dec-2001', 'Sep-2008', 'May-1990', 'Feb-2006'], dtype=object)"
      ]
     },
     "execution_count": 29,
     "metadata": {},
     "output_type": "execute_result"
    }
   ],
   "source": [
    "df.earliestcrline.unique()[:5]"
   ]
  },
  {
   "cell_type": "code",
   "execution_count": 30,
   "metadata": {
    "collapsed": true
   },
   "outputs": [],
   "source": [
    "# convert to number of months to Dec 2016"
   ]
  },
  {
   "cell_type": "code",
   "execution_count": 31,
   "metadata": {
    "collapsed": true
   },
   "outputs": [],
   "source": [
    "cl_month=df.earliestcrline.apply(lambda x: x.split('-')[0])\n",
    "cl_year=df.earliestcrline.apply(lambda x: int(x.split('-')[1]))"
   ]
  },
  {
   "cell_type": "code",
   "execution_count": 32,
   "metadata": {},
   "outputs": [
    {
     "data": {
      "text/plain": [
       "array(['May', 'Dec', 'Sep', 'Feb', 'Nov', 'Mar', 'Jul', 'Jan', 'Apr',\n",
       "       'Jun', 'Aug', 'Oct'], dtype=object)"
      ]
     },
     "execution_count": 32,
     "metadata": {},
     "output_type": "execute_result"
    }
   ],
   "source": [
    "cl_month.unique()"
   ]
  },
  {
   "cell_type": "code",
   "execution_count": 33,
   "metadata": {},
   "outputs": [
    {
     "data": {
      "text/plain": [
       "array([2006, 2001, 2008, 1990, 1994, 2012, 1999, 1986, 2005, 2002, 1995,\n",
       "       2010, 1993, 2003, 2007, 2009, 1992, 2004, 1975, 1997, 1985, 1996,\n",
       "       2000, 2011, 1981, 1998, 1980, 1989, 1983, 1991, 1982, 1988, 1987,\n",
       "       1972, 2013, 1978, 1984, 1976, 1963, 1969, 1979, 1973, 1974, 1977,\n",
       "       1971, 1970, 1966, 1967, 1968, 1965, 1955, 1960, 1957, 1961, 1964,\n",
       "       1958, 1959, 1962, 1956, 1948, 1952, 1933, 1954, 1946, 1951], dtype=int64)"
      ]
     },
     "execution_count": 33,
     "metadata": {},
     "output_type": "execute_result"
    }
   ],
   "source": [
    "cl_year.unique()"
   ]
  },
  {
   "cell_type": "code",
   "execution_count": 34,
   "metadata": {
    "collapsed": true
   },
   "outputs": [],
   "source": [
    "dic_month= {'Jan':11,'Feb':10,'Mar':9,'Apr':8, 'May':7, 'Jun':6, 'Jul':5, 'Aug':4, 'Sep':3, 'Oct':2, 'Nov':1, 'Dec':0}"
   ]
  },
  {
   "cell_type": "code",
   "execution_count": 35,
   "metadata": {
    "collapsed": true
   },
   "outputs": [],
   "source": [
    "df['earliestcrline_month']=df.earliestcrline.apply(lambda x: (2016-int(x.split('-')[1]))*12+dic_month[x.split('-')[0]])"
   ]
  },
  {
   "cell_type": "code",
   "execution_count": 36,
   "metadata": {},
   "outputs": [
    {
     "data": {
      "text/plain": [
       "0    127\n",
       "2    180\n",
       "5     99\n",
       "7    319\n",
       "8    130\n",
       "Name: earliestcrline_month, dtype: int64"
      ]
     },
     "execution_count": 36,
     "metadata": {},
     "output_type": "execute_result"
    }
   ],
   "source": [
    "df.earliestcrline_month[:5]"
   ]
  },
  {
   "cell_type": "code",
   "execution_count": 37,
   "metadata": {
    "collapsed": true
   },
   "outputs": [],
   "source": [
    "num_feature.append('earliestcrline_month')\n",
    "ob_feature.remove('earliestcrline')"
   ]
  },
  {
   "cell_type": "code",
   "execution_count": 38,
   "metadata": {},
   "outputs": [
    {
     "name": "stdout",
     "output_type": "stream",
     "text": [
      "14 74\n"
     ]
    }
   ],
   "source": [
    "print len(ob_feature), len(num_feature)"
   ]
  },
  {
   "cell_type": "code",
   "execution_count": null,
   "metadata": {
    "collapsed": true
   },
   "outputs": [],
   "source": []
  },
  {
   "cell_type": "markdown",
   "metadata": {},
   "source": [
    "### emplength to numeric feature"
   ]
  },
  {
   "cell_type": "code",
   "execution_count": 39,
   "metadata": {},
   "outputs": [
    {
     "name": "stdout",
     "output_type": "stream",
     "text": [
      "0\n"
     ]
    },
    {
     "data": {
      "text/plain": [
       "array(['9 years', '10+ years', '5 years', 'n/a', '2 years', '< 1 year',\n",
       "       '1 year', '3 years', '8 years', '6 years', '7 years', '4 years'], dtype=object)"
      ]
     },
     "execution_count": 39,
     "metadata": {},
     "output_type": "execute_result"
    }
   ],
   "source": [
    "print df['emplength'].isnull().sum()\n",
    "df['emplength'].unique()"
   ]
  },
  {
   "cell_type": "code",
   "execution_count": 40,
   "metadata": {
    "collapsed": true
   },
   "outputs": [],
   "source": [
    "df['emplength'].replace('n/a', np.nan, inplace=True)\n",
    "df['emplength'].replace('< 1 year', '0', inplace=True)\n",
    "df['emplength'].replace(to_replace='[^0-9]+', value='', inplace=True, regex=True)\n",
    "df.emplength.fillna(value=-999,inplace=True)\n",
    "df['emplength'] = df['emplength'].astype(int)"
   ]
  },
  {
   "cell_type": "code",
   "execution_count": 41,
   "metadata": {},
   "outputs": [
    {
     "data": {
      "text/plain": [
       " 10     97261\n",
       " 2      27689\n",
       " 3      24299\n",
       " 0      22739\n",
       "-999    21320\n",
       " 1      20468\n",
       " 5      18143\n",
       " 4      17691\n",
       " 8      12680\n",
       " 6      12677\n",
       " 9      11293\n",
       " 7       9547\n",
       "Name: emplength, dtype: int64"
      ]
     },
     "execution_count": 41,
     "metadata": {},
     "output_type": "execute_result"
    }
   ],
   "source": [
    "df.emplength.value_counts()"
   ]
  },
  {
   "cell_type": "code",
   "execution_count": 42,
   "metadata": {},
   "outputs": [
    {
     "name": "stdout",
     "output_type": "stream",
     "text": [
      "75 13\n"
     ]
    }
   ],
   "source": [
    "num_feature.append('emplength')\n",
    "ob_feature.remove('emplength')\n",
    "print len(num_feature), len(ob_feature)"
   ]
  },
  {
   "cell_type": "code",
   "execution_count": null,
   "metadata": {
    "collapsed": true
   },
   "outputs": [],
   "source": []
  },
  {
   "cell_type": "markdown",
   "metadata": {},
   "source": [
    "## % to numeric feature: intrate, revolutil"
   ]
  },
  {
   "cell_type": "code",
   "execution_count": 43,
   "metadata": {
    "collapsed": true
   },
   "outputs": [],
   "source": [
    "intrate=df.intrate.apply(lambda x: float(x.replace('%','')))"
   ]
  },
  {
   "cell_type": "code",
   "execution_count": 44,
   "metadata": {},
   "outputs": [
    {
     "data": {
      "text/plain": [
       "0    12.99\n",
       "2     5.32\n",
       "Name: intrate, dtype: float64"
      ]
     },
     "execution_count": 44,
     "metadata": {},
     "output_type": "execute_result"
    }
   ],
   "source": [
    "df.intrate=intrate\n",
    "df.intrate[:2]"
   ]
  },
  {
   "cell_type": "code",
   "execution_count": 45,
   "metadata": {},
   "outputs": [
    {
     "data": {
      "text/plain": [
       "0      63%\n",
       "2    18.4%\n",
       "5     7.2%\n",
       "Name: revolutil, dtype: object"
      ]
     },
     "execution_count": 45,
     "metadata": {},
     "output_type": "execute_result"
    }
   ],
   "source": [
    "df.revolutil[:3]"
   ]
  },
  {
   "cell_type": "code",
   "execution_count": 46,
   "metadata": {
    "collapsed": true
   },
   "outputs": [],
   "source": [
    "revolutil=df.revolutil.apply(lambda x: str(x).replace('%','')).astype(float)"
   ]
  },
  {
   "cell_type": "code",
   "execution_count": 47,
   "metadata": {},
   "outputs": [
    {
     "data": {
      "text/plain": [
       "0    63.0\n",
       "2    18.4\n",
       "Name: revolutil, dtype: float64"
      ]
     },
     "execution_count": 47,
     "metadata": {},
     "output_type": "execute_result"
    }
   ],
   "source": [
    "df.revolutil=revolutil\n",
    "df.revolutil[:2]"
   ]
  },
  {
   "cell_type": "code",
   "execution_count": 48,
   "metadata": {
    "collapsed": true
   },
   "outputs": [],
   "source": [
    "ob_feature.remove('intrate')\n",
    "num_feature.append('intrate')\n",
    "ob_feature.remove('revolutil')\n",
    "num_feature.append('revolutil')"
   ]
  },
  {
   "cell_type": "code",
   "execution_count": 49,
   "metadata": {},
   "outputs": [
    {
     "name": "stdout",
     "output_type": "stream",
     "text": [
      "11 77\n"
     ]
    }
   ],
   "source": [
    "print len(ob_feature), len(num_feature)"
   ]
  },
  {
   "cell_type": "markdown",
   "metadata": {},
   "source": [
    "#### Ordinal feature encoding : grade, subgrade"
   ]
  },
  {
   "cell_type": "code",
   "execution_count": 50,
   "metadata": {
    "collapsed": true
   },
   "outputs": [],
   "source": [
    "Dic_grade = {\"A\": 1, \n",
    "            \"B\": 2, \n",
    "            \"C\": 3, \n",
    "            \"D\": 4, \n",
    "            \"E\": 5,\n",
    "            \"F\": 6, \n",
    "            \"G\": 7}"
   ]
  },
  {
   "cell_type": "code",
   "execution_count": 51,
   "metadata": {
    "collapsed": true
   },
   "outputs": [],
   "source": [
    "df.grade = df.grade.map(Dic_grade)"
   ]
  },
  {
   "cell_type": "code",
   "execution_count": 52,
   "metadata": {
    "collapsed": true
   },
   "outputs": [],
   "source": [
    "df.subgrade = df.subgrade.apply(lambda x: (Dic_grade[x[0]] - 1) * 5 + int(x[1]))"
   ]
  },
  {
   "cell_type": "code",
   "execution_count": 53,
   "metadata": {
    "collapsed": true
   },
   "outputs": [],
   "source": [
    "ob_feature.remove('grade')\n",
    "num_feature.append('grade')\n",
    "ob_feature.remove('subgrade')\n",
    "num_feature.append('subgrade')"
   ]
  },
  {
   "cell_type": "code",
   "execution_count": 54,
   "metadata": {},
   "outputs": [
    {
     "name": "stdout",
     "output_type": "stream",
     "text": [
      "9 79\n"
     ]
    }
   ],
   "source": [
    "print len(ob_feature), len(num_feature)"
   ]
  },
  {
   "cell_type": "code",
   "execution_count": null,
   "metadata": {
    "collapsed": true
   },
   "outputs": [],
   "source": []
  },
  {
   "cell_type": "markdown",
   "metadata": {},
   "source": [
    "### High cardinality feature encoding"
   ]
  },
  {
   "cell_type": "markdown",
   "metadata": {},
   "source": [
    "###### Zip Code - frequency encoding "
   ]
  },
  {
   "cell_type": "code",
   "execution_count": 55,
   "metadata": {},
   "outputs": [
    {
     "name": "stdout",
     "output_type": "stream",
     "text": [
      "903 ['211xx' '554xx' '328xx' '163xx' '117xx']\n"
     ]
    }
   ],
   "source": [
    "print df.zipcode.nunique(), df.zipcode.unique()[:5]"
   ]
  },
  {
   "cell_type": "code",
   "execution_count": 56,
   "metadata": {
    "collapsed": true
   },
   "outputs": [],
   "source": [
    "# convert zipcode to int\n",
    "df.zipcode = df.zipcode.apply(lambda x: int(x[0:3]))"
   ]
  },
  {
   "cell_type": "code",
   "execution_count": 57,
   "metadata": {},
   "outputs": [
    {
     "data": {
      "text/plain": [
       "0    211\n",
       "2    554\n",
       "5    328\n",
       "7    163\n",
       "8    117\n",
       "Name: zipcode, dtype: int64"
      ]
     },
     "execution_count": 57,
     "metadata": {},
     "output_type": "execute_result"
    }
   ],
   "source": [
    "df.zipcode[:5]"
   ]
  },
  {
   "cell_type": "code",
   "execution_count": 58,
   "metadata": {
    "collapsed": true
   },
   "outputs": [],
   "source": [
    "zipcode_freq = df.groupby(\"zipcode\").size().reset_index()"
   ]
  },
  {
   "cell_type": "code",
   "execution_count": 59,
   "metadata": {},
   "outputs": [
    {
     "data": {
      "text/html": [
       "<div>\n",
       "<style>\n",
       "    .dataframe thead tr:only-child th {\n",
       "        text-align: right;\n",
       "    }\n",
       "\n",
       "    .dataframe thead th {\n",
       "        text-align: left;\n",
       "    }\n",
       "\n",
       "    .dataframe tbody tr th {\n",
       "        vertical-align: top;\n",
       "    }\n",
       "</style>\n",
       "<table border=\"1\" class=\"dataframe\">\n",
       "  <thead>\n",
       "    <tr style=\"text-align: right;\">\n",
       "      <th></th>\n",
       "      <th>zipcode</th>\n",
       "      <th>0</th>\n",
       "    </tr>\n",
       "  </thead>\n",
       "  <tbody>\n",
       "    <tr>\n",
       "      <th>0</th>\n",
       "      <td>8</td>\n",
       "      <td>2</td>\n",
       "    </tr>\n",
       "    <tr>\n",
       "      <th>1</th>\n",
       "      <td>9</td>\n",
       "      <td>1</td>\n",
       "    </tr>\n",
       "    <tr>\n",
       "      <th>2</th>\n",
       "      <td>10</td>\n",
       "      <td>461</td>\n",
       "    </tr>\n",
       "    <tr>\n",
       "      <th>3</th>\n",
       "      <td>11</td>\n",
       "      <td>155</td>\n",
       "    </tr>\n",
       "    <tr>\n",
       "      <th>4</th>\n",
       "      <td>12</td>\n",
       "      <td>106</td>\n",
       "    </tr>\n",
       "  </tbody>\n",
       "</table>\n",
       "</div>"
      ],
      "text/plain": [
       "   zipcode    0\n",
       "0        8    2\n",
       "1        9    1\n",
       "2       10  461\n",
       "3       11  155\n",
       "4       12  106"
      ]
     },
     "execution_count": 59,
     "metadata": {},
     "output_type": "execute_result"
    }
   ],
   "source": [
    "zipcode_freq[:5]"
   ]
  },
  {
   "cell_type": "code",
   "execution_count": 60,
   "metadata": {
    "collapsed": true
   },
   "outputs": [],
   "source": [
    "zipcode_freq.columns = [\"zipcode\", \"zipcode_freq\"]"
   ]
  },
  {
   "cell_type": "code",
   "execution_count": 61,
   "metadata": {
    "collapsed": true
   },
   "outputs": [],
   "source": [
    "df = pd.merge(df, zipcode_freq, how = \"left\", on = \"zipcode\")"
   ]
  },
  {
   "cell_type": "code",
   "execution_count": 62,
   "metadata": {},
   "outputs": [
    {
     "data": {
      "text/plain": [
       "0     572\n",
       "1    1118\n",
       "2    1125\n",
       "3      74\n",
       "4    2024\n",
       "Name: zipcode_freq, dtype: int64"
      ]
     },
     "execution_count": 62,
     "metadata": {},
     "output_type": "execute_result"
    }
   ],
   "source": [
    "df.zipcode_freq[:5]"
   ]
  },
  {
   "cell_type": "code",
   "execution_count": 63,
   "metadata": {},
   "outputs": [
    {
     "name": "stdout",
     "output_type": "stream",
     "text": [
      "8 81\n"
     ]
    }
   ],
   "source": [
    "ob_feature.remove('zipcode')\n",
    "num_feature.append('zipcode')\n",
    "num_feature.append('zipcode_freq')\n",
    "print len(ob_feature), len(num_feature)"
   ]
  },
  {
   "cell_type": "markdown",
   "metadata": {},
   "source": [
    "### emptitle-frequency encoding (can do some NLP for later stage)"
   ]
  },
  {
   "cell_type": "code",
   "execution_count": 64,
   "metadata": {
    "collapsed": true
   },
   "outputs": [],
   "source": [
    "emptitle_freq = df.groupby(\"emptitle\").size().reset_index()\n",
    "emptitle_freq.columns = [\"emptitle\", \"emptitle_freq\"]\n",
    "df = pd.merge(df, emptitle_freq, how = \"left\", on = \"emptitle\")\n"
   ]
  },
  {
   "cell_type": "code",
   "execution_count": 65,
   "metadata": {},
   "outputs": [
    {
     "name": "stdout",
     "output_type": "stream",
     "text": [
      "7 82\n"
     ]
    }
   ],
   "source": [
    "ob_feature.remove('emptitle')\n",
    "num_feature.append('emptitle_freq')\n",
    "print len(ob_feature), len(num_feature)"
   ]
  },
  {
   "cell_type": "markdown",
   "metadata": {},
   "source": [
    "###### Addr_state - frequency encoding"
   ]
  },
  {
   "cell_type": "code",
   "execution_count": 66,
   "metadata": {
    "collapsed": true
   },
   "outputs": [],
   "source": [
    "addrstate_freq = df.groupby(\"addrstate\").size().reset_index()\n",
    "addrstate_freq.columns = [\"addrstate\", \"addrstate_freq\"]\n",
    "df = pd.merge(df, addrstate_freq, how = \"left\", on = \"addrstate\")\n"
   ]
  },
  {
   "cell_type": "code",
   "execution_count": 67,
   "metadata": {},
   "outputs": [
    {
     "name": "stdout",
     "output_type": "stream",
     "text": [
      "6 83\n"
     ]
    }
   ],
   "source": [
    "ob_feature.remove('addrstate')\n",
    "num_feature.append('addrstate_freq')\n",
    "print len(ob_feature), len(num_feature)"
   ]
  },
  {
   "cell_type": "code",
   "execution_count": 68,
   "metadata": {},
   "outputs": [
    {
     "data": {
      "text/plain": [
       "['initialliststatus',\n",
       " 'verificationstatusjoint',\n",
       " 'applicationtype',\n",
       " 'homeownership',\n",
       " 'verificationstatus',\n",
       " 'purpose']"
      ]
     },
     "execution_count": 68,
     "metadata": {},
     "output_type": "execute_result"
    }
   ],
   "source": [
    "ob_feature"
   ]
  },
  {
   "cell_type": "code",
   "execution_count": 69,
   "metadata": {
    "scrolled": true
   },
   "outputs": [
    {
     "data": {
      "text/plain": [
       "0    217986\n",
       "1     77821\n",
       "Name: initialliststatus, dtype: int64"
      ]
     },
     "execution_count": 69,
     "metadata": {},
     "output_type": "execute_result"
    }
   ],
   "source": [
    "# initialliststatus has only two values, change it to 0,1\n",
    "initialliststatus= df.initialliststatus.apply(lambda x: 0 if x =='w' else 1)\n",
    "df.initialliststatus = initialliststatus\n",
    "df.initialliststatus.value_counts()"
   ]
  },
  {
   "cell_type": "code",
   "execution_count": 70,
   "metadata": {},
   "outputs": [
    {
     "data": {
      "text/plain": [
       "0    291419\n",
       "1      4388\n",
       "Name: applicationtype, dtype: int64"
      ]
     },
     "execution_count": 70,
     "metadata": {},
     "output_type": "execute_result"
    }
   ],
   "source": [
    "# applicationtype has only two values (Individual, Joint), change it to 0,1; only less than 2% is 1.\n",
    "applicationtype= df.applicationtype.apply(lambda x: 0 if x =='Individual' else 1)\n",
    "df.applicationtype = applicationtype \n",
    "df.applicationtype.value_counts()"
   ]
  },
  {
   "cell_type": "code",
   "execution_count": 71,
   "metadata": {},
   "outputs": [
    {
     "name": "stdout",
     "output_type": "stream",
     "text": [
      "4 85 ['verificationstatusjoint', 'homeownership', 'verificationstatus', 'purpose']\n"
     ]
    }
   ],
   "source": [
    "ob_feature.remove('initialliststatus')\n",
    "num_feature.append('initialliststatus')\n",
    "ob_feature.remove('applicationtype')\n",
    "num_feature.append('applicationtype')\n",
    "print len(ob_feature), len(num_feature), ob_feature"
   ]
  },
  {
   "cell_type": "code",
   "execution_count": 74,
   "metadata": {},
   "outputs": [
    {
     "name": "stdout",
     "output_type": "stream",
     "text": [
      "3 85 ['homeownership', 'verificationstatus', 'purpose']\n"
     ]
    }
   ],
   "source": [
    "# verificationstatusjoint mostly consistent with applicationtype, just remove it\n",
    "ob_feature.remove('verificationstatusjoint')\n",
    "print len(ob_feature), len(num_feature), ob_feature"
   ]
  },
  {
   "cell_type": "markdown",
   "metadata": {},
   "source": [
    "#### One hot encoding"
   ]
  },
  {
   "cell_type": "code",
   "execution_count": 75,
   "metadata": {
    "collapsed": true
   },
   "outputs": [],
   "source": [
    "dummy_feature = [\"homeownership\", \"verificationstatus\", \"purpose\"]"
   ]
  },
  {
   "cell_type": "code",
   "execution_count": null,
   "metadata": {
    "collapsed": true
   },
   "outputs": [],
   "source": []
  },
  {
   "cell_type": "code",
   "execution_count": 76,
   "metadata": {
    "collapsed": true
   },
   "outputs": [],
   "source": [
    "df_dummy = pd.get_dummies(df[dummy_feature])"
   ]
  },
  {
   "cell_type": "code",
   "execution_count": 77,
   "metadata": {
    "collapsed": true
   },
   "outputs": [],
   "source": [
    "OHE_feature=list(df_dummy.columns.values)"
   ]
  },
  {
   "cell_type": "code",
   "execution_count": 78,
   "metadata": {},
   "outputs": [
    {
     "data": {
      "text/plain": [
       "20"
      ]
     },
     "execution_count": 78,
     "metadata": {},
     "output_type": "execute_result"
    }
   ],
   "source": [
    "len(OHE_feature)"
   ]
  },
  {
   "cell_type": "code",
   "execution_count": 79,
   "metadata": {
    "collapsed": true
   },
   "outputs": [],
   "source": [
    "df=pd.concat([df,df_dummy], axis=1 )"
   ]
  },
  {
   "cell_type": "code",
   "execution_count": 80,
   "metadata": {},
   "outputs": [
    {
     "data": {
      "text/plain": [
       "(295807, 117)"
      ]
     },
     "execution_count": 80,
     "metadata": {},
     "output_type": "execute_result"
    }
   ],
   "source": [
    "df.shape"
   ]
  },
  {
   "cell_type": "code",
   "execution_count": 81,
   "metadata": {
    "collapsed": true
   },
   "outputs": [],
   "source": [
    "for feat in dummy_feature:\n",
    "    \n",
    "    ob_feature.remove(feat)"
   ]
  },
  {
   "cell_type": "code",
   "execution_count": 82,
   "metadata": {},
   "outputs": [
    {
     "data": {
      "text/plain": [
       "0"
      ]
     },
     "execution_count": 82,
     "metadata": {},
     "output_type": "execute_result"
    }
   ],
   "source": [
    "len(ob_feature)"
   ]
  },
  {
   "cell_type": "code",
   "execution_count": 83,
   "metadata": {
    "collapsed": true
   },
   "outputs": [],
   "source": [
    "select_feature=num_feature+OHE_feature"
   ]
  },
  {
   "cell_type": "code",
   "execution_count": 84,
   "metadata": {},
   "outputs": [
    {
     "data": {
      "text/plain": [
       "105"
      ]
     },
     "execution_count": 84,
     "metadata": {},
     "output_type": "execute_result"
    }
   ],
   "source": [
    "len(select_feature)"
   ]
  },
  {
   "cell_type": "code",
   "execution_count": 115,
   "metadata": {},
   "outputs": [
    {
     "data": {
      "text/plain": [
       "(295807, 117)"
      ]
     },
     "execution_count": 115,
     "metadata": {},
     "output_type": "execute_result"
    }
   ],
   "source": [
    "df.shape"
   ]
  },
  {
   "cell_type": "markdown",
   "metadata": {},
   "source": [
    "##  XGBoost "
   ]
  },
  {
   "cell_type": "code",
   "execution_count": 85,
   "metadata": {},
   "outputs": [
    {
     "name": "stdout",
     "output_type": "stream",
     "text": [
      "['bcopentobuy', 'numactvbctl', 'mthssincelastrecord', 'totcurbal', 'mosinrcnttl', 'openrv12m', 'inqlast12m', 'mortacc', 'mthssincelastdelinq', 'numactvrevtl', 'tothicredlim', 'ficorangehigh', 'maxbalbc', 'openil24m', 'numbctl', 'totalrevhilim', 'totcollamt', 'numtl120dpd2m', 'totalbalexmort', 'annualincjoint', 'ficorangelow', 'totalacc', 'mthssincerecentbcdlq', 'installment', 'numrevaccts', 'pubrec', 'accopenpast24mths', 'numoprevtl', 'avgcurbal', 'openactil', 'dti', 'openacc6m', 'totalbalil', 'delinq2yrs', 'mosinoldilacct', 'annualinc', 'inqfi', 'numtl30dpd', 'loanamnt', 'numsats', 'mthssincerecentrevoldelinq', 'mthssincerecentbc', 'revolbal', 'inqlast6mths', 'mthssincercntil', 'openrv24m', 'totalilhighcreditlimit', 'collections12mthsexmed', 'chargeoffwithin12mths', 'numtl90gdpd24m', 'delinqamnt', 'mosinoldrevtlop', 'taxliens', 'numbcsats', 'totalbclimit', 'dtijoint', 'numacctsever120pd', 'accnowdelinq', 'openil12m', 'pcttlnvrdlq', 'bcutil', 'mthssincerecentinq', 'numiltl', 'mosinrcntrevtlop', 'allutil', 'openacc', 'numrevtlbalgt0', 'totalcutl', 'mthssincelastmajorderog', 'numtloppast12m', 'percentbcgt75', 'pubrecbankruptcies', 'ilutil', 'earliestcrline_month', 'emplength', 'intrate', 'revolutil', 'grade', 'subgrade', 'zipcode', 'zipcode_freq', 'emptitle_freq', 'addrstate_freq', 'initialliststatus', 'applicationtype', 'homeownership_ANY', 'homeownership_MORTGAGE', 'homeownership_OWN', 'homeownership_RENT', 'verificationstatus_Not Verified', 'verificationstatus_Source Verified', 'verificationstatus_Verified', 'purpose_car', 'purpose_credit_card', 'purpose_debt_consolidation', 'purpose_home_improvement', 'purpose_house', 'purpose_major_purchase', 'purpose_medical', 'purpose_moving', 'purpose_other', 'purpose_renewable_energy', 'purpose_small_business', 'purpose_vacation', 'purpose_wedding']\n"
     ]
    }
   ],
   "source": [
    "feat=select_feature\n",
    "print feat"
   ]
  },
  {
   "cell_type": "markdown",
   "metadata": {},
   "source": [
    "### Preliminary manually parameter tuning based on stratified train-test split"
   ]
  },
  {
   "cell_type": "code",
   "execution_count": 86,
   "metadata": {},
   "outputs": [
    {
     "name": "stderr",
     "output_type": "stream",
     "text": [
      "C:\\Users\\Weiqun\\Anaconda2\\lib\\site-packages\\sklearn\\cross_validation.py:41: DeprecationWarning: This module was deprecated in version 0.18 in favor of the model_selection module into which all the refactored classes and functions are moved. Also note that the interface of the new CV iterators are different from that of this module. This module will be removed in 0.20.\n",
      "  \"This module will be removed in 0.20.\", DeprecationWarning)\n"
     ]
    }
   ],
   "source": [
    "from sklearn.cross_validation import StratifiedKFold\n",
    "from sklearn.cross_validation import train_test_split\n",
    "#Kfolds = StratifiedKFold(df_all['loan_status'], n_folds = 3, shuffle=True, random_state=2019)"
   ]
  },
  {
   "cell_type": "code",
   "execution_count": 87,
   "metadata": {
    "collapsed": true
   },
   "outputs": [],
   "source": [
    "df_train = df.query(\"train_flg == 1\")\n",
    "df_test =df.query(\"train_flg == 0\" )"
   ]
  },
  {
   "cell_type": "code",
   "execution_count": 88,
   "metadata": {},
   "outputs": [
    {
     "name": "stdout",
     "output_type": "stream",
     "text": [
      "(241114, 117) (54693, 117)\n"
     ]
    }
   ],
   "source": [
    "print df_train.shape, df_test.shape"
   ]
  },
  {
   "cell_type": "code",
   "execution_count": 89,
   "metadata": {},
   "outputs": [
    {
     "data": {
      "text/plain": [
       "(241114, 105)"
      ]
     },
     "execution_count": 89,
     "metadata": {},
     "output_type": "execute_result"
    }
   ],
   "source": [
    "df_train[feat].shape"
   ]
  },
  {
   "cell_type": "code",
   "execution_count": 90,
   "metadata": {
    "collapsed": true
   },
   "outputs": [],
   "source": [
    "X_train, X_valid, y_train, y_valid = train_test_split(df_train[feat], df_train.loanstatus, \n",
    "                                                      test_size=0.3, random_state=2014, stratify = df_train.loanstatus )"
   ]
  },
  {
   "cell_type": "code",
   "execution_count": 91,
   "metadata": {
    "collapsed": true
   },
   "outputs": [],
   "source": [
    "X_test, y_test = df_test[feat], df_test.loanstatus"
   ]
  },
  {
   "cell_type": "code",
   "execution_count": 92,
   "metadata": {
    "collapsed": true
   },
   "outputs": [],
   "source": [
    "dtrain = xgb.DMatrix(X_train, y_train, missing = np.NAN)\n",
    "dvalid = xgb.DMatrix(X_valid, y_valid, missing = np.NAN)\n",
    "dtest = xgb.DMatrix(X_test, y_test, missing = np.NAN)"
   ]
  },
  {
   "cell_type": "code",
   "execution_count": 93,
   "metadata": {
    "collapsed": true
   },
   "outputs": [],
   "source": [
    "params = {\"objective\": \"binary:logistic\", \n",
    "          \"booster\" : \"gbtree\", \n",
    "          \"eta\": 0.05, \n",
    "          \"max_depth\": 6, \n",
    "          \"subsample\": 0.632, \n",
    "          \"colsample_bytree\": 0.7,\n",
    "          #\"colsample_bylevel\": 0.6,\n",
    "          \"silent\": 1, \n",
    "          \"seed\": 1234, \n",
    "          \"eval_metric\": \"auc\",\n",
    "          #\"gamma\": 1, \n",
    "          \"min_child_weight\": 5} "
   ]
  },
  {
   "cell_type": "code",
   "execution_count": 94,
   "metadata": {},
   "outputs": [
    {
     "name": "stdout",
     "output_type": "stream",
     "text": [
      "[0]\ttrain-auc:0.693382\teval-auc:0.682204\n",
      "Multiple eval metrics have been passed: 'eval-auc' will be used for early stopping.\n",
      "\n",
      "Will train until eval-auc hasn't improved in 50 rounds.\n",
      "[1]\ttrain-auc:0.699379\teval-auc:0.687537\n",
      "[2]\ttrain-auc:0.700898\teval-auc:0.689263\n",
      "[3]\ttrain-auc:0.702397\teval-auc:0.689853\n",
      "[4]\ttrain-auc:0.703512\teval-auc:0.690924\n",
      "[5]\ttrain-auc:0.704477\teval-auc:0.69219\n",
      "[6]\ttrain-auc:0.704944\teval-auc:0.692312\n",
      "[7]\ttrain-auc:0.705583\teval-auc:0.692461\n",
      "[8]\ttrain-auc:0.706491\teval-auc:0.693374\n",
      "[9]\ttrain-auc:0.706799\teval-auc:0.693548\n",
      "[10]\ttrain-auc:0.707108\teval-auc:0.693894\n",
      "[11]\ttrain-auc:0.707864\teval-auc:0.694216\n",
      "[12]\ttrain-auc:0.708271\teval-auc:0.694546\n",
      "[13]\ttrain-auc:0.708467\teval-auc:0.694796\n",
      "[14]\ttrain-auc:0.708963\teval-auc:0.695118\n",
      "[15]\ttrain-auc:0.70938\teval-auc:0.695232\n",
      "[16]\ttrain-auc:0.709856\teval-auc:0.695754\n",
      "[17]\ttrain-auc:0.710148\teval-auc:0.695967\n",
      "[18]\ttrain-auc:0.710442\teval-auc:0.696048\n",
      "[19]\ttrain-auc:0.710868\teval-auc:0.696175\n",
      "[20]\ttrain-auc:0.711162\teval-auc:0.696204\n",
      "[21]\ttrain-auc:0.711467\teval-auc:0.696354\n",
      "[22]\ttrain-auc:0.711843\teval-auc:0.696561\n",
      "[23]\ttrain-auc:0.71296\teval-auc:0.69717\n",
      "[24]\ttrain-auc:0.713089\teval-auc:0.697236\n",
      "[25]\ttrain-auc:0.713204\teval-auc:0.697388\n",
      "[26]\ttrain-auc:0.713538\teval-auc:0.697579\n",
      "[27]\ttrain-auc:0.71385\teval-auc:0.697616\n",
      "[28]\ttrain-auc:0.714182\teval-auc:0.697718\n",
      "[29]\ttrain-auc:0.714551\teval-auc:0.697885\n",
      "[30]\ttrain-auc:0.715365\teval-auc:0.698373\n",
      "[31]\ttrain-auc:0.715678\teval-auc:0.698526\n",
      "[32]\ttrain-auc:0.715943\teval-auc:0.698583\n",
      "[33]\ttrain-auc:0.716189\teval-auc:0.698668\n",
      "[34]\ttrain-auc:0.716563\teval-auc:0.698943\n",
      "[35]\ttrain-auc:0.716817\teval-auc:0.69911\n",
      "[36]\ttrain-auc:0.716957\teval-auc:0.699182\n",
      "[37]\ttrain-auc:0.717285\teval-auc:0.699327\n",
      "[38]\ttrain-auc:0.717557\teval-auc:0.699595\n",
      "[39]\ttrain-auc:0.717867\teval-auc:0.699635\n",
      "[40]\ttrain-auc:0.718105\teval-auc:0.699769\n",
      "[41]\ttrain-auc:0.718345\teval-auc:0.699885\n",
      "[42]\ttrain-auc:0.718645\teval-auc:0.699998\n",
      "[43]\ttrain-auc:0.718913\teval-auc:0.700067\n",
      "[44]\ttrain-auc:0.719633\teval-auc:0.700445\n",
      "[45]\ttrain-auc:0.719845\teval-auc:0.700548\n",
      "[46]\ttrain-auc:0.720228\teval-auc:0.700612\n",
      "[47]\ttrain-auc:0.720585\teval-auc:0.700662\n",
      "[48]\ttrain-auc:0.72094\teval-auc:0.70081\n",
      "[49]\ttrain-auc:0.72128\teval-auc:0.700988\n",
      "[50]\ttrain-auc:0.721509\teval-auc:0.701077\n",
      "[51]\ttrain-auc:0.721818\teval-auc:0.701163\n",
      "[52]\ttrain-auc:0.72205\teval-auc:0.701306\n",
      "[53]\ttrain-auc:0.722596\teval-auc:0.701615\n",
      "[54]\ttrain-auc:0.722935\teval-auc:0.701636\n",
      "[55]\ttrain-auc:0.723212\teval-auc:0.701712\n",
      "[56]\ttrain-auc:0.723592\teval-auc:0.70187\n",
      "[57]\ttrain-auc:0.723966\teval-auc:0.702056\n",
      "[58]\ttrain-auc:0.724289\teval-auc:0.702161\n",
      "[59]\ttrain-auc:0.724829\teval-auc:0.702289\n",
      "[60]\ttrain-auc:0.725221\teval-auc:0.702487\n",
      "[61]\ttrain-auc:0.725502\teval-auc:0.702561\n",
      "[62]\ttrain-auc:0.725799\teval-auc:0.702705\n",
      "[63]\ttrain-auc:0.726157\teval-auc:0.702783\n",
      "[64]\ttrain-auc:0.726578\teval-auc:0.702912\n",
      "[65]\ttrain-auc:0.726874\teval-auc:0.702987\n",
      "[66]\ttrain-auc:0.727288\teval-auc:0.703146\n",
      "[67]\ttrain-auc:0.727721\teval-auc:0.703254\n",
      "[68]\ttrain-auc:0.728055\teval-auc:0.703403\n",
      "[69]\ttrain-auc:0.728395\teval-auc:0.703448\n",
      "[70]\ttrain-auc:0.728701\teval-auc:0.703565\n",
      "[71]\ttrain-auc:0.729118\teval-auc:0.703791\n",
      "[72]\ttrain-auc:0.729602\teval-auc:0.703972\n",
      "[73]\ttrain-auc:0.729938\teval-auc:0.704062\n",
      "[74]\ttrain-auc:0.730378\teval-auc:0.704133\n",
      "[75]\ttrain-auc:0.730687\teval-auc:0.704246\n",
      "[76]\ttrain-auc:0.730986\teval-auc:0.704399\n",
      "[77]\ttrain-auc:0.73137\teval-auc:0.70441\n",
      "[78]\ttrain-auc:0.731734\teval-auc:0.704496\n",
      "[79]\ttrain-auc:0.732077\teval-auc:0.704608\n",
      "[80]\ttrain-auc:0.732373\teval-auc:0.704573\n",
      "[81]\ttrain-auc:0.732725\teval-auc:0.704664\n",
      "[82]\ttrain-auc:0.733101\teval-auc:0.704785\n",
      "[83]\ttrain-auc:0.733397\teval-auc:0.704866\n",
      "[84]\ttrain-auc:0.733721\teval-auc:0.704999\n",
      "[85]\ttrain-auc:0.734032\teval-auc:0.705115\n",
      "[86]\ttrain-auc:0.734389\teval-auc:0.705148\n",
      "[87]\ttrain-auc:0.734685\teval-auc:0.705177\n",
      "[88]\ttrain-auc:0.734994\teval-auc:0.705204\n",
      "[89]\ttrain-auc:0.735347\teval-auc:0.705365\n",
      "[90]\ttrain-auc:0.735632\teval-auc:0.705389\n",
      "[91]\ttrain-auc:0.736036\teval-auc:0.705533\n",
      "[92]\ttrain-auc:0.736501\teval-auc:0.705582\n",
      "[93]\ttrain-auc:0.736768\teval-auc:0.705641\n",
      "[94]\ttrain-auc:0.737237\teval-auc:0.705631\n",
      "[95]\ttrain-auc:0.737607\teval-auc:0.705672\n",
      "[96]\ttrain-auc:0.738001\teval-auc:0.705758\n",
      "[97]\ttrain-auc:0.738355\teval-auc:0.705862\n",
      "[98]\ttrain-auc:0.738581\teval-auc:0.705909\n",
      "[99]\ttrain-auc:0.738922\teval-auc:0.705983\n",
      "[100]\ttrain-auc:0.739218\teval-auc:0.706094\n",
      "[101]\ttrain-auc:0.739571\teval-auc:0.7062\n",
      "[102]\ttrain-auc:0.739794\teval-auc:0.706264\n",
      "[103]\ttrain-auc:0.740099\teval-auc:0.706273\n",
      "[104]\ttrain-auc:0.740484\teval-auc:0.706364\n",
      "[105]\ttrain-auc:0.740832\teval-auc:0.706394\n",
      "[106]\ttrain-auc:0.741026\teval-auc:0.706413\n",
      "[107]\ttrain-auc:0.741261\teval-auc:0.706472\n",
      "[108]\ttrain-auc:0.741638\teval-auc:0.706537\n",
      "[109]\ttrain-auc:0.741944\teval-auc:0.706608\n",
      "[110]\ttrain-auc:0.74222\teval-auc:0.706632\n",
      "[111]\ttrain-auc:0.742441\teval-auc:0.706676\n",
      "[112]\ttrain-auc:0.742837\teval-auc:0.706788\n",
      "[113]\ttrain-auc:0.743086\teval-auc:0.706882\n",
      "[114]\ttrain-auc:0.743429\teval-auc:0.706932\n",
      "[115]\ttrain-auc:0.743614\teval-auc:0.70697\n",
      "[116]\ttrain-auc:0.743785\teval-auc:0.707028\n",
      "[117]\ttrain-auc:0.744028\teval-auc:0.707107\n",
      "[118]\ttrain-auc:0.744193\teval-auc:0.70715\n",
      "[119]\ttrain-auc:0.744577\teval-auc:0.707198\n",
      "[120]\ttrain-auc:0.744834\teval-auc:0.707231\n",
      "[121]\ttrain-auc:0.7451\teval-auc:0.707238\n",
      "[122]\ttrain-auc:0.745408\teval-auc:0.707232\n",
      "[123]\ttrain-auc:0.745737\teval-auc:0.707307\n",
      "[124]\ttrain-auc:0.745891\teval-auc:0.707336\n",
      "[125]\ttrain-auc:0.74619\teval-auc:0.707357\n",
      "[126]\ttrain-auc:0.746438\teval-auc:0.707407\n",
      "[127]\ttrain-auc:0.746753\teval-auc:0.707571\n",
      "[128]\ttrain-auc:0.746839\teval-auc:0.70758\n",
      "[129]\ttrain-auc:0.747139\teval-auc:0.707682\n",
      "[130]\ttrain-auc:0.747498\teval-auc:0.707773\n",
      "[131]\ttrain-auc:0.7477\teval-auc:0.707776\n",
      "[132]\ttrain-auc:0.747871\teval-auc:0.707802\n",
      "[133]\ttrain-auc:0.748187\teval-auc:0.707898\n",
      "[134]\ttrain-auc:0.748411\teval-auc:0.707935\n",
      "[135]\ttrain-auc:0.748663\teval-auc:0.708038\n",
      "[136]\ttrain-auc:0.74886\teval-auc:0.708065\n",
      "[137]\ttrain-auc:0.749175\teval-auc:0.708069\n",
      "[138]\ttrain-auc:0.7495\teval-auc:0.708161\n",
      "[139]\ttrain-auc:0.749693\teval-auc:0.708179\n",
      "[140]\ttrain-auc:0.749846\teval-auc:0.708231\n",
      "[141]\ttrain-auc:0.750035\teval-auc:0.708257\n",
      "[142]\ttrain-auc:0.750348\teval-auc:0.708276\n",
      "[143]\ttrain-auc:0.750508\teval-auc:0.708298\n",
      "[144]\ttrain-auc:0.750808\teval-auc:0.708292\n",
      "[145]\ttrain-auc:0.751081\teval-auc:0.708324\n",
      "[146]\ttrain-auc:0.751262\teval-auc:0.708352\n",
      "[147]\ttrain-auc:0.7515\teval-auc:0.708409\n",
      "[148]\ttrain-auc:0.751732\teval-auc:0.708418\n",
      "[149]\ttrain-auc:0.752073\teval-auc:0.708418\n",
      "[150]\ttrain-auc:0.752244\teval-auc:0.708467\n",
      "[151]\ttrain-auc:0.752517\teval-auc:0.708532\n",
      "[152]\ttrain-auc:0.752721\teval-auc:0.708594\n",
      "[153]\ttrain-auc:0.752991\teval-auc:0.708596\n",
      "[154]\ttrain-auc:0.753321\teval-auc:0.7086\n",
      "[155]\ttrain-auc:0.753581\teval-auc:0.708644\n",
      "[156]\ttrain-auc:0.753836\teval-auc:0.708622\n",
      "[157]\ttrain-auc:0.754085\teval-auc:0.708679\n",
      "[158]\ttrain-auc:0.754262\teval-auc:0.708681\n",
      "[159]\ttrain-auc:0.754623\teval-auc:0.7087\n",
      "[160]\ttrain-auc:0.754968\teval-auc:0.708683\n",
      "[161]\ttrain-auc:0.755193\teval-auc:0.708675\n",
      "[162]\ttrain-auc:0.755403\teval-auc:0.708721\n",
      "[163]\ttrain-auc:0.755733\teval-auc:0.70875\n",
      "[164]\ttrain-auc:0.755794\teval-auc:0.708747\n",
      "[165]\ttrain-auc:0.756075\teval-auc:0.708772\n",
      "[166]\ttrain-auc:0.756154\teval-auc:0.708773\n",
      "[167]\ttrain-auc:0.756418\teval-auc:0.708748\n",
      "[168]\ttrain-auc:0.756544\teval-auc:0.708767\n",
      "[169]\ttrain-auc:0.756705\teval-auc:0.708766\n",
      "[170]\ttrain-auc:0.75681\teval-auc:0.708739\n",
      "[171]\ttrain-auc:0.756956\teval-auc:0.708756\n",
      "[172]\ttrain-auc:0.757125\teval-auc:0.708807\n",
      "[173]\ttrain-auc:0.757192\teval-auc:0.708811\n",
      "[174]\ttrain-auc:0.757454\teval-auc:0.708844\n",
      "[175]\ttrain-auc:0.757502\teval-auc:0.708855\n",
      "[176]\ttrain-auc:0.757665\teval-auc:0.70884\n",
      "[177]\ttrain-auc:0.757988\teval-auc:0.708832\n",
      "[178]\ttrain-auc:0.758197\teval-auc:0.708798\n",
      "[179]\ttrain-auc:0.758412\teval-auc:0.708781\n",
      "[180]\ttrain-auc:0.758629\teval-auc:0.708895\n",
      "[181]\ttrain-auc:0.758864\teval-auc:0.708886\n",
      "[182]\ttrain-auc:0.758976\teval-auc:0.708898\n",
      "[183]\ttrain-auc:0.759097\teval-auc:0.708921\n",
      "[184]\ttrain-auc:0.759361\teval-auc:0.708979\n",
      "[185]\ttrain-auc:0.759643\teval-auc:0.709006\n",
      "[186]\ttrain-auc:0.759769\teval-auc:0.709033\n",
      "[187]\ttrain-auc:0.76002\teval-auc:0.709012\n",
      "[188]\ttrain-auc:0.760303\teval-auc:0.708988\n",
      "[189]\ttrain-auc:0.760516\teval-auc:0.709026\n",
      "[190]\ttrain-auc:0.760758\teval-auc:0.709065\n"
     ]
    },
    {
     "name": "stdout",
     "output_type": "stream",
     "text": [
      "[191]\ttrain-auc:0.761042\teval-auc:0.709104\n",
      "[192]\ttrain-auc:0.761331\teval-auc:0.709069\n",
      "[193]\ttrain-auc:0.761603\teval-auc:0.709107\n",
      "[194]\ttrain-auc:0.761859\teval-auc:0.709093\n",
      "[195]\ttrain-auc:0.762009\teval-auc:0.709118\n",
      "[196]\ttrain-auc:0.762171\teval-auc:0.709123\n",
      "[197]\ttrain-auc:0.762423\teval-auc:0.709105\n",
      "[198]\ttrain-auc:0.762612\teval-auc:0.709108\n",
      "[199]\ttrain-auc:0.762827\teval-auc:0.709138\n",
      "[200]\ttrain-auc:0.762899\teval-auc:0.709164\n",
      "[201]\ttrain-auc:0.7631\teval-auc:0.709147\n",
      "[202]\ttrain-auc:0.763324\teval-auc:0.709197\n",
      "[203]\ttrain-auc:0.763665\teval-auc:0.709236\n",
      "[204]\ttrain-auc:0.763935\teval-auc:0.70928\n",
      "[205]\ttrain-auc:0.764136\teval-auc:0.709301\n",
      "[206]\ttrain-auc:0.764454\teval-auc:0.709271\n",
      "[207]\ttrain-auc:0.764712\teval-auc:0.709251\n",
      "[208]\ttrain-auc:0.765004\teval-auc:0.709293\n",
      "[209]\ttrain-auc:0.765229\teval-auc:0.709279\n",
      "[210]\ttrain-auc:0.765349\teval-auc:0.709324\n",
      "[211]\ttrain-auc:0.765612\teval-auc:0.709347\n",
      "[212]\ttrain-auc:0.765919\teval-auc:0.709324\n",
      "[213]\ttrain-auc:0.766056\teval-auc:0.70932\n",
      "[214]\ttrain-auc:0.7663\teval-auc:0.709286\n",
      "[215]\ttrain-auc:0.766591\teval-auc:0.709334\n",
      "[216]\ttrain-auc:0.766654\teval-auc:0.709333\n",
      "[217]\ttrain-auc:0.766694\teval-auc:0.709338\n",
      "[218]\ttrain-auc:0.766947\teval-auc:0.709332\n",
      "[219]\ttrain-auc:0.767109\teval-auc:0.709338\n",
      "[220]\ttrain-auc:0.767301\teval-auc:0.709384\n",
      "[221]\ttrain-auc:0.767445\teval-auc:0.709403\n",
      "[222]\ttrain-auc:0.767709\teval-auc:0.709449\n",
      "[223]\ttrain-auc:0.768028\teval-auc:0.709499\n",
      "[224]\ttrain-auc:0.768269\teval-auc:0.70956\n",
      "[225]\ttrain-auc:0.768409\teval-auc:0.709569\n",
      "[226]\ttrain-auc:0.768614\teval-auc:0.709599\n",
      "[227]\ttrain-auc:0.768806\teval-auc:0.70958\n",
      "[228]\ttrain-auc:0.768965\teval-auc:0.709569\n",
      "[229]\ttrain-auc:0.769193\teval-auc:0.709564\n",
      "[230]\ttrain-auc:0.769353\teval-auc:0.709598\n",
      "[231]\ttrain-auc:0.769596\teval-auc:0.709598\n",
      "[232]\ttrain-auc:0.76974\teval-auc:0.709614\n",
      "[233]\ttrain-auc:0.769849\teval-auc:0.709602\n",
      "[234]\ttrain-auc:0.770019\teval-auc:0.709588\n",
      "[235]\ttrain-auc:0.770304\teval-auc:0.709576\n",
      "[236]\ttrain-auc:0.770374\teval-auc:0.709564\n",
      "[237]\ttrain-auc:0.770511\teval-auc:0.7096\n",
      "[238]\ttrain-auc:0.770618\teval-auc:0.709583\n",
      "[239]\ttrain-auc:0.770827\teval-auc:0.709595\n",
      "[240]\ttrain-auc:0.771106\teval-auc:0.709617\n",
      "[241]\ttrain-auc:0.771311\teval-auc:0.709585\n",
      "[242]\ttrain-auc:0.771532\teval-auc:0.709581\n",
      "[243]\ttrain-auc:0.771766\teval-auc:0.709653\n",
      "[244]\ttrain-auc:0.771982\teval-auc:0.709683\n",
      "[245]\ttrain-auc:0.772175\teval-auc:0.709681\n",
      "[246]\ttrain-auc:0.772449\teval-auc:0.709689\n",
      "[247]\ttrain-auc:0.772645\teval-auc:0.709644\n",
      "[248]\ttrain-auc:0.772928\teval-auc:0.709693\n",
      "[249]\ttrain-auc:0.773113\teval-auc:0.709692\n",
      "[250]\ttrain-auc:0.773245\teval-auc:0.709722\n",
      "[251]\ttrain-auc:0.773439\teval-auc:0.709719\n",
      "[252]\ttrain-auc:0.773698\teval-auc:0.70974\n",
      "[253]\ttrain-auc:0.77391\teval-auc:0.709695\n",
      "[254]\ttrain-auc:0.774031\teval-auc:0.709713\n",
      "[255]\ttrain-auc:0.774196\teval-auc:0.70972\n",
      "[256]\ttrain-auc:0.774515\teval-auc:0.709798\n",
      "[257]\ttrain-auc:0.774674\teval-auc:0.70982\n",
      "[258]\ttrain-auc:0.774745\teval-auc:0.709822\n",
      "[259]\ttrain-auc:0.774989\teval-auc:0.709835\n",
      "[260]\ttrain-auc:0.775162\teval-auc:0.70987\n",
      "[261]\ttrain-auc:0.775389\teval-auc:0.709897\n",
      "[262]\ttrain-auc:0.775603\teval-auc:0.709913\n",
      "[263]\ttrain-auc:0.775686\teval-auc:0.709896\n",
      "[264]\ttrain-auc:0.775943\teval-auc:0.709924\n",
      "[265]\ttrain-auc:0.776085\teval-auc:0.709931\n",
      "[266]\ttrain-auc:0.776323\teval-auc:0.709925\n",
      "[267]\ttrain-auc:0.776466\teval-auc:0.709926\n",
      "[268]\ttrain-auc:0.776605\teval-auc:0.709918\n",
      "[269]\ttrain-auc:0.77668\teval-auc:0.70994\n",
      "[270]\ttrain-auc:0.776774\teval-auc:0.70995\n",
      "[271]\ttrain-auc:0.776918\teval-auc:0.709932\n",
      "[272]\ttrain-auc:0.777221\teval-auc:0.709937\n",
      "[273]\ttrain-auc:0.777415\teval-auc:0.709902\n",
      "[274]\ttrain-auc:0.777559\teval-auc:0.709896\n",
      "[275]\ttrain-auc:0.777644\teval-auc:0.709872\n",
      "[276]\ttrain-auc:0.777796\teval-auc:0.709919\n",
      "[277]\ttrain-auc:0.778004\teval-auc:0.70988\n",
      "[278]\ttrain-auc:0.778258\teval-auc:0.709926\n",
      "[279]\ttrain-auc:0.778547\teval-auc:0.709943\n",
      "[280]\ttrain-auc:0.778664\teval-auc:0.709909\n",
      "[281]\ttrain-auc:0.778813\teval-auc:0.709954\n",
      "[282]\ttrain-auc:0.778952\teval-auc:0.709911\n",
      "[283]\ttrain-auc:0.779155\teval-auc:0.709906\n",
      "[284]\ttrain-auc:0.779252\teval-auc:0.709939\n",
      "[285]\ttrain-auc:0.779332\teval-auc:0.709941\n",
      "[286]\ttrain-auc:0.779518\teval-auc:0.709976\n",
      "[287]\ttrain-auc:0.779729\teval-auc:0.709994\n",
      "[288]\ttrain-auc:0.779876\teval-auc:0.709999\n",
      "[289]\ttrain-auc:0.780004\teval-auc:0.71004\n",
      "[290]\ttrain-auc:0.78028\teval-auc:0.710055\n",
      "[291]\ttrain-auc:0.780371\teval-auc:0.710032\n",
      "[292]\ttrain-auc:0.780697\teval-auc:0.709992\n",
      "[293]\ttrain-auc:0.780899\teval-auc:0.709932\n",
      "[294]\ttrain-auc:0.781122\teval-auc:0.709924\n",
      "[295]\ttrain-auc:0.781206\teval-auc:0.709943\n",
      "[296]\ttrain-auc:0.781315\teval-auc:0.70996\n",
      "[297]\ttrain-auc:0.781492\teval-auc:0.70995\n",
      "[298]\ttrain-auc:0.781677\teval-auc:0.709905\n",
      "[299]\ttrain-auc:0.781851\teval-auc:0.709873\n",
      "[300]\ttrain-auc:0.782043\teval-auc:0.709873\n",
      "[301]\ttrain-auc:0.78228\teval-auc:0.709843\n",
      "[302]\ttrain-auc:0.782492\teval-auc:0.709903\n",
      "[303]\ttrain-auc:0.782679\teval-auc:0.709868\n",
      "[304]\ttrain-auc:0.782892\teval-auc:0.709918\n",
      "[305]\ttrain-auc:0.782976\teval-auc:0.709919\n",
      "[306]\ttrain-auc:0.783165\teval-auc:0.709889\n",
      "[307]\ttrain-auc:0.78332\teval-auc:0.709878\n",
      "[308]\ttrain-auc:0.783521\teval-auc:0.709889\n",
      "[309]\ttrain-auc:0.783634\teval-auc:0.709885\n",
      "[310]\ttrain-auc:0.783834\teval-auc:0.709892\n",
      "[311]\ttrain-auc:0.784023\teval-auc:0.70993\n",
      "[312]\ttrain-auc:0.784176\teval-auc:0.709967\n",
      "[313]\ttrain-auc:0.784276\teval-auc:0.709928\n",
      "[314]\ttrain-auc:0.784515\teval-auc:0.709996\n",
      "[315]\ttrain-auc:0.784651\teval-auc:0.710013\n",
      "[316]\ttrain-auc:0.784916\teval-auc:0.710046\n",
      "[317]\ttrain-auc:0.785039\teval-auc:0.710042\n",
      "[318]\ttrain-auc:0.785205\teval-auc:0.710036\n",
      "[319]\ttrain-auc:0.785406\teval-auc:0.710049\n",
      "[320]\ttrain-auc:0.7855\teval-auc:0.710044\n",
      "[321]\ttrain-auc:0.785629\teval-auc:0.710036\n",
      "[322]\ttrain-auc:0.785828\teval-auc:0.710054\n",
      "[323]\ttrain-auc:0.785963\teval-auc:0.710066\n",
      "[324]\ttrain-auc:0.786055\teval-auc:0.710071\n",
      "[325]\ttrain-auc:0.786301\teval-auc:0.7101\n",
      "[326]\ttrain-auc:0.786522\teval-auc:0.710081\n",
      "[327]\ttrain-auc:0.786661\teval-auc:0.710118\n",
      "[328]\ttrain-auc:0.786781\teval-auc:0.710116\n",
      "[329]\ttrain-auc:0.786829\teval-auc:0.710131\n",
      "[330]\ttrain-auc:0.786995\teval-auc:0.710138\n",
      "[331]\ttrain-auc:0.787135\teval-auc:0.710126\n",
      "[332]\ttrain-auc:0.787321\teval-auc:0.710113\n",
      "[333]\ttrain-auc:0.787448\teval-auc:0.71009\n",
      "[334]\ttrain-auc:0.787657\teval-auc:0.710132\n",
      "[335]\ttrain-auc:0.787883\teval-auc:0.710166\n",
      "[336]\ttrain-auc:0.788059\teval-auc:0.71013\n",
      "[337]\ttrain-auc:0.788342\teval-auc:0.71009\n",
      "[338]\ttrain-auc:0.788396\teval-auc:0.710146\n",
      "[339]\ttrain-auc:0.788566\teval-auc:0.710152\n",
      "[340]\ttrain-auc:0.788748\teval-auc:0.71017\n",
      "[341]\ttrain-auc:0.788842\teval-auc:0.71019\n",
      "[342]\ttrain-auc:0.788934\teval-auc:0.710185\n",
      "[343]\ttrain-auc:0.789058\teval-auc:0.710193\n",
      "[344]\ttrain-auc:0.789205\teval-auc:0.710173\n",
      "[345]\ttrain-auc:0.789391\teval-auc:0.710176\n",
      "[346]\ttrain-auc:0.789602\teval-auc:0.710183\n",
      "[347]\ttrain-auc:0.789822\teval-auc:0.710181\n",
      "[348]\ttrain-auc:0.789885\teval-auc:0.710166\n",
      "[349]\ttrain-auc:0.790075\teval-auc:0.710184\n",
      "[350]\ttrain-auc:0.790234\teval-auc:0.710131\n",
      "[351]\ttrain-auc:0.790534\teval-auc:0.710159\n",
      "[352]\ttrain-auc:0.79071\teval-auc:0.710155\n",
      "[353]\ttrain-auc:0.790882\teval-auc:0.710125\n",
      "[354]\ttrain-auc:0.791121\teval-auc:0.710089\n",
      "[355]\ttrain-auc:0.791309\teval-auc:0.71011\n",
      "[356]\ttrain-auc:0.791466\teval-auc:0.710078\n",
      "[357]\ttrain-auc:0.791599\teval-auc:0.710087\n",
      "[358]\ttrain-auc:0.791829\teval-auc:0.710029\n",
      "[359]\ttrain-auc:0.791998\teval-auc:0.710066\n",
      "[360]\ttrain-auc:0.792114\teval-auc:0.710077\n",
      "[361]\ttrain-auc:0.792132\teval-auc:0.710088\n",
      "[362]\ttrain-auc:0.792299\teval-auc:0.710077\n",
      "[363]\ttrain-auc:0.792504\teval-auc:0.710076\n",
      "[364]\ttrain-auc:0.792773\teval-auc:0.710054\n",
      "[365]\ttrain-auc:0.792979\teval-auc:0.710044\n",
      "[366]\ttrain-auc:0.793099\teval-auc:0.710048\n",
      "[367]\ttrain-auc:0.793221\teval-auc:0.710058\n",
      "[368]\ttrain-auc:0.793499\teval-auc:0.710047\n",
      "[369]\ttrain-auc:0.793587\teval-auc:0.710009\n",
      "[370]\ttrain-auc:0.793633\teval-auc:0.710007\n",
      "[371]\ttrain-auc:0.793796\teval-auc:0.709958\n",
      "[372]\ttrain-auc:0.793988\teval-auc:0.709937\n",
      "[373]\ttrain-auc:0.794129\teval-auc:0.70992\n",
      "[374]\ttrain-auc:0.794277\teval-auc:0.709915\n",
      "[375]\ttrain-auc:0.794453\teval-auc:0.709949\n",
      "[376]\ttrain-auc:0.794682\teval-auc:0.709961\n",
      "[377]\ttrain-auc:0.794762\teval-auc:0.709999\n",
      "[378]\ttrain-auc:0.794886\teval-auc:0.710025\n",
      "[379]\ttrain-auc:0.795167\teval-auc:0.710015\n",
      "[380]\ttrain-auc:0.795325\teval-auc:0.709989\n",
      "[381]\ttrain-auc:0.795512\teval-auc:0.709972\n",
      "[382]\ttrain-auc:0.795772\teval-auc:0.710015\n"
     ]
    },
    {
     "name": "stdout",
     "output_type": "stream",
     "text": [
      "[383]\ttrain-auc:0.795863\teval-auc:0.710017\n",
      "[384]\ttrain-auc:0.796039\teval-auc:0.709969\n",
      "[385]\ttrain-auc:0.796134\teval-auc:0.709977\n",
      "[386]\ttrain-auc:0.796345\teval-auc:0.710023\n",
      "[387]\ttrain-auc:0.796503\teval-auc:0.710026\n",
      "[388]\ttrain-auc:0.796699\teval-auc:0.709979\n",
      "[389]\ttrain-auc:0.796843\teval-auc:0.709972\n",
      "[390]\ttrain-auc:0.797092\teval-auc:0.709961\n",
      "[391]\ttrain-auc:0.7973\teval-auc:0.709958\n",
      "[392]\ttrain-auc:0.797449\teval-auc:0.709968\n",
      "[393]\ttrain-auc:0.797536\teval-auc:0.709968\n",
      "Stopping. Best iteration:\n",
      "[343]\ttrain-auc:0.789058\teval-auc:0.710193\n",
      "\n"
     ]
    }
   ],
   "source": [
    "watchlist = [(dtrain, 'train'), (dvalid, 'eval')]\n",
    "num_boost_round = 1500\n",
    "gbm = xgb.train(params, dtrain, num_boost_round, evals=watchlist,\\\n",
    "  early_stopping_rounds= 50)"
   ]
  },
  {
   "cell_type": "code",
   "execution_count": 97,
   "metadata": {
    "collapsed": true
   },
   "outputs": [],
   "source": [
    "from sklearn.metrics import roc_curve, auc\n",
    "from sklearn import linear_model, datasets\n",
    "import pylab as pl\n",
    "def draw_ROC(model, dtrain, dvalid, dtest, y_train, y_valid, y_test ):\n",
    "    probas_ = model.predict(dvalid, ntree_limit=model.best_ntree_limit)\n",
    "    probas_1 = model.predict(dtrain, ntree_limit=model.best_ntree_limit)\n",
    "    probas_2 = model.predict(dtest, ntree_limit=model.best_ntree_limit)\n",
    "    fpr, tpr, thresholds = roc_curve(y_valid, probas_)\n",
    "    fpr_1, tpr_1, thresholds_1 = roc_curve(y_train, probas_1)\n",
    "    fpr_2, tpr_2, thresholds_2 = roc_curve(y_test, probas_2)\n",
    "    roc_auc = auc(fpr, tpr)\n",
    "    roc_auc_1 = auc(fpr_1, tpr_1)\n",
    "    roc_auc_2 = auc(fpr_2, tpr_2)\n",
    "    print \"Area under the ROC curve - validation: %f\" % roc_auc\n",
    "    print \"Area under the ROC curve - train: %f\" % roc_auc_1\n",
    "    print \"Area under the ROC curve - test: %f\" % roc_auc_2\n",
    "    # Plot ROC curve\n",
    "    plt.figure(figsize=(8,8))\n",
    "    plt.plot(fpr, tpr, label='ROC curve - valid(AUC = %0.2f)' % roc_auc, color='r')\n",
    "    plt.plot(fpr_1, tpr_1, label='ROC curve - train (AUC = %0.2f)' % roc_auc_1, color='b')\n",
    "    plt.plot(fpr_2, tpr_2, label='ROC curve - test (AUC = %0.2f)' % roc_auc_2, color='g')\n",
    "    plt.plot([0, 1], [0, 1], 'k--')\n",
    "    plt.xlim([0.0, 1.0])\n",
    "    plt.ylim([0.0, 1.0])\n",
    "    plt.xlabel('False Positive Rate')\n",
    "    plt.ylabel('True Positive Rate')\n",
    "    plt.title('ROC for lead score model')\n",
    "    plt.legend(loc=\"lower right\")\n",
    "    plt.show()\n"
   ]
  },
  {
   "cell_type": "markdown",
   "metadata": {},
   "source": [
    "### ROC curve"
   ]
  },
  {
   "cell_type": "code",
   "execution_count": 98,
   "metadata": {},
   "outputs": [
    {
     "name": "stdout",
     "output_type": "stream",
     "text": [
      "Area under the ROC curve - validation: 0.710193\n",
      "Area under the ROC curve - train: 0.789058\n",
      "Area under the ROC curve - test: 0.694061\n"
     ]
    },
    {
     "data": {
      "image/png": "[encoded data removed]",
      "text/plain": [
       "<matplotlib.figure.Figure at 0x27fd4c50>"
      ]
     },
     "metadata": {},
     "output_type": "display_data"
    }
   ],
   "source": [
    "draw_ROC(gbm, dtrain, dvalid, dtest, y_train, y_valid, y_test)"
   ]
  },
  {
   "cell_type": "markdown",
   "metadata": {},
   "source": [
    "### Distribution of predicted values"
   ]
  },
  {
   "cell_type": "code",
   "execution_count": 99,
   "metadata": {
    "collapsed": true
   },
   "outputs": [],
   "source": [
    "y_pred = gbm.predict(dtest)"
   ]
  },
  {
   "cell_type": "code",
   "execution_count": 100,
   "metadata": {},
   "outputs": [
    {
     "name": "stdout",
     "output_type": "stream",
     "text": [
      "0.835738 0.00394629 0.167875\n"
     ]
    }
   ],
   "source": [
    "print y_pred.max(), y_pred.min(), y_pred.mean()"
   ]
  },
  {
   "cell_type": "code",
   "execution_count": null,
   "metadata": {
    "collapsed": true
   },
   "outputs": [],
   "source": []
  },
  {
   "cell_type": "markdown",
   "metadata": {},
   "source": [
    "### Feature importance"
   ]
  },
  {
   "cell_type": "code",
   "execution_count": 101,
   "metadata": {
    "collapsed": true
   },
   "outputs": [],
   "source": [
    "importance=gbm.get_fscore()"
   ]
  },
  {
   "cell_type": "code",
   "execution_count": 102,
   "metadata": {
    "collapsed": true
   },
   "outputs": [],
   "source": [
    "df_importance = pd.DataFrame(importance.items(), columns=['feature', 'fscore'])\n",
    "df_importance['fscore'] = df_importance['fscore'] / df_importance['fscore'].sum()"
   ]
  },
  {
   "cell_type": "code",
   "execution_count": 103,
   "metadata": {
    "scrolled": false
   },
   "outputs": [
    {
     "data": {
      "text/html": [
       "<div>\n",
       "<style>\n",
       "    .dataframe thead tr:only-child th {\n",
       "        text-align: right;\n",
       "    }\n",
       "\n",
       "    .dataframe thead th {\n",
       "        text-align: left;\n",
       "    }\n",
       "\n",
       "    .dataframe tbody tr th {\n",
       "        vertical-align: top;\n",
       "    }\n",
       "</style>\n",
       "<table border=\"1\" class=\"dataframe\">\n",
       "  <thead>\n",
       "    <tr style=\"text-align: right;\">\n",
       "      <th></th>\n",
       "      <th>feature</th>\n",
       "      <th>fscore</th>\n",
       "    </tr>\n",
       "  </thead>\n",
       "  <tbody>\n",
       "    <tr>\n",
       "      <th>62</th>\n",
       "      <td>dti</td>\n",
       "      <td>0.038418</td>\n",
       "    </tr>\n",
       "    <tr>\n",
       "      <th>75</th>\n",
       "      <td>emptitle_freq</td>\n",
       "      <td>0.030609</td>\n",
       "    </tr>\n",
       "    <tr>\n",
       "      <th>25</th>\n",
       "      <td>installment</td>\n",
       "      <td>0.029184</td>\n",
       "    </tr>\n",
       "    <tr>\n",
       "      <th>82</th>\n",
       "      <td>zipcode</td>\n",
       "      <td>0.027417</td>\n",
       "    </tr>\n",
       "    <tr>\n",
       "      <th>28</th>\n",
       "      <td>mosinoldilacct</td>\n",
       "      <td>0.026790</td>\n",
       "    </tr>\n",
       "    <tr>\n",
       "      <th>40</th>\n",
       "      <td>mosinoldrevtlop</td>\n",
       "      <td>0.026163</td>\n",
       "    </tr>\n",
       "    <tr>\n",
       "      <th>48</th>\n",
       "      <td>mthssincercntil</td>\n",
       "      <td>0.024909</td>\n",
       "    </tr>\n",
       "    <tr>\n",
       "      <th>29</th>\n",
       "      <td>annualinc</td>\n",
       "      <td>0.024624</td>\n",
       "    </tr>\n",
       "    <tr>\n",
       "      <th>14</th>\n",
       "      <td>maxbalbc</td>\n",
       "      <td>0.024339</td>\n",
       "    </tr>\n",
       "    <tr>\n",
       "      <th>13</th>\n",
       "      <td>tothicredlim</td>\n",
       "      <td>0.023940</td>\n",
       "    </tr>\n",
       "    <tr>\n",
       "      <th>0</th>\n",
       "      <td>bcopentobuy</td>\n",
       "      <td>0.023769</td>\n",
       "    </tr>\n",
       "    <tr>\n",
       "      <th>58</th>\n",
       "      <td>bcutil</td>\n",
       "      <td>0.023427</td>\n",
       "    </tr>\n",
       "    <tr>\n",
       "      <th>27</th>\n",
       "      <td>avgcurbal</td>\n",
       "      <td>0.023142</td>\n",
       "    </tr>\n",
       "    <tr>\n",
       "      <th>61</th>\n",
       "      <td>intrate</td>\n",
       "      <td>0.022629</td>\n",
       "    </tr>\n",
       "    <tr>\n",
       "      <th>30</th>\n",
       "      <td>revolutil</td>\n",
       "      <td>0.022287</td>\n",
       "    </tr>\n",
       "    <tr>\n",
       "      <th>52</th>\n",
       "      <td>zipcode_freq</td>\n",
       "      <td>0.022059</td>\n",
       "    </tr>\n",
       "    <tr>\n",
       "      <th>35</th>\n",
       "      <td>ilutil</td>\n",
       "      <td>0.021888</td>\n",
       "    </tr>\n",
       "    <tr>\n",
       "      <th>34</th>\n",
       "      <td>mthssincerecentbc</td>\n",
       "      <td>0.021033</td>\n",
       "    </tr>\n",
       "    <tr>\n",
       "      <th>78</th>\n",
       "      <td>revolbal</td>\n",
       "      <td>0.018981</td>\n",
       "    </tr>\n",
       "    <tr>\n",
       "      <th>60</th>\n",
       "      <td>earliestcrline_month</td>\n",
       "      <td>0.018411</td>\n",
       "    </tr>\n",
       "    <tr>\n",
       "      <th>23</th>\n",
       "      <td>loanamnt</td>\n",
       "      <td>0.018126</td>\n",
       "    </tr>\n",
       "    <tr>\n",
       "      <th>12</th>\n",
       "      <td>mthssincelastdelinq</td>\n",
       "      <td>0.017328</td>\n",
       "    </tr>\n",
       "    <tr>\n",
       "      <th>15</th>\n",
       "      <td>totalrevhilim</td>\n",
       "      <td>0.017214</td>\n",
       "    </tr>\n",
       "    <tr>\n",
       "      <th>44</th>\n",
       "      <td>mthssincerecentinq</td>\n",
       "      <td>0.016530</td>\n",
       "    </tr>\n",
       "    <tr>\n",
       "      <th>90</th>\n",
       "      <td>totalbclimit</td>\n",
       "      <td>0.016416</td>\n",
       "    </tr>\n",
       "    <tr>\n",
       "      <th>4</th>\n",
       "      <td>totalbalexmort</td>\n",
       "      <td>0.014991</td>\n",
       "    </tr>\n",
       "    <tr>\n",
       "      <th>84</th>\n",
       "      <td>totalilhighcreditlimit</td>\n",
       "      <td>0.014877</td>\n",
       "    </tr>\n",
       "    <tr>\n",
       "      <th>66</th>\n",
       "      <td>accopenpast24mths</td>\n",
       "      <td>0.014022</td>\n",
       "    </tr>\n",
       "    <tr>\n",
       "      <th>3</th>\n",
       "      <td>totcurbal</td>\n",
       "      <td>0.013908</td>\n",
       "    </tr>\n",
       "    <tr>\n",
       "      <th>47</th>\n",
       "      <td>mthssincelastmajorderog</td>\n",
       "      <td>0.013737</td>\n",
       "    </tr>\n",
       "    <tr>\n",
       "      <th>...</th>\n",
       "      <td>...</td>\n",
       "      <td>...</td>\n",
       "    </tr>\n",
       "    <tr>\n",
       "      <th>16</th>\n",
       "      <td>numtl120dpd2m</td>\n",
       "      <td>0.002622</td>\n",
       "    </tr>\n",
       "    <tr>\n",
       "      <th>43</th>\n",
       "      <td>openil12m</td>\n",
       "      <td>0.002451</td>\n",
       "    </tr>\n",
       "    <tr>\n",
       "      <th>20</th>\n",
       "      <td>homeownership_MORTGAGE</td>\n",
       "      <td>0.002280</td>\n",
       "    </tr>\n",
       "    <tr>\n",
       "      <th>19</th>\n",
       "      <td>purpose_debt_consolidation</td>\n",
       "      <td>0.002280</td>\n",
       "    </tr>\n",
       "    <tr>\n",
       "      <th>77</th>\n",
       "      <td>dtijoint</td>\n",
       "      <td>0.002223</td>\n",
       "    </tr>\n",
       "    <tr>\n",
       "      <th>54</th>\n",
       "      <td>verificationstatus_Source Verified</td>\n",
       "      <td>0.002052</td>\n",
       "    </tr>\n",
       "    <tr>\n",
       "      <th>50</th>\n",
       "      <td>grade</td>\n",
       "      <td>0.001995</td>\n",
       "    </tr>\n",
       "    <tr>\n",
       "      <th>18</th>\n",
       "      <td>annualincjoint</td>\n",
       "      <td>0.001824</td>\n",
       "    </tr>\n",
       "    <tr>\n",
       "      <th>32</th>\n",
       "      <td>purpose_small_business</td>\n",
       "      <td>0.001653</td>\n",
       "    </tr>\n",
       "    <tr>\n",
       "      <th>24</th>\n",
       "      <td>verificationstatus_Not Verified</td>\n",
       "      <td>0.001596</td>\n",
       "    </tr>\n",
       "    <tr>\n",
       "      <th>76</th>\n",
       "      <td>purpose_medical</td>\n",
       "      <td>0.001482</td>\n",
       "    </tr>\n",
       "    <tr>\n",
       "      <th>87</th>\n",
       "      <td>delinqamnt</td>\n",
       "      <td>0.001368</td>\n",
       "    </tr>\n",
       "    <tr>\n",
       "      <th>17</th>\n",
       "      <td>verificationstatus_Verified</td>\n",
       "      <td>0.001368</td>\n",
       "    </tr>\n",
       "    <tr>\n",
       "      <th>99</th>\n",
       "      <td>pubrecbankruptcies</td>\n",
       "      <td>0.001311</td>\n",
       "    </tr>\n",
       "    <tr>\n",
       "      <th>81</th>\n",
       "      <td>purpose_credit_card</td>\n",
       "      <td>0.001197</td>\n",
       "    </tr>\n",
       "    <tr>\n",
       "      <th>86</th>\n",
       "      <td>numtl90gdpd24m</td>\n",
       "      <td>0.001026</td>\n",
       "    </tr>\n",
       "    <tr>\n",
       "      <th>41</th>\n",
       "      <td>taxliens</td>\n",
       "      <td>0.001026</td>\n",
       "    </tr>\n",
       "    <tr>\n",
       "      <th>65</th>\n",
       "      <td>pubrec</td>\n",
       "      <td>0.000969</td>\n",
       "    </tr>\n",
       "    <tr>\n",
       "      <th>85</th>\n",
       "      <td>collections12mthsexmed</td>\n",
       "      <td>0.000855</td>\n",
       "    </tr>\n",
       "    <tr>\n",
       "      <th>49</th>\n",
       "      <td>initialliststatus</td>\n",
       "      <td>0.000798</td>\n",
       "    </tr>\n",
       "    <tr>\n",
       "      <th>37</th>\n",
       "      <td>purpose_home_improvement</td>\n",
       "      <td>0.000798</td>\n",
       "    </tr>\n",
       "    <tr>\n",
       "      <th>38</th>\n",
       "      <td>purpose_vacation</td>\n",
       "      <td>0.000684</td>\n",
       "    </tr>\n",
       "    <tr>\n",
       "      <th>69</th>\n",
       "      <td>homeownership_OWN</td>\n",
       "      <td>0.000684</td>\n",
       "    </tr>\n",
       "    <tr>\n",
       "      <th>11</th>\n",
       "      <td>purpose_other</td>\n",
       "      <td>0.000399</td>\n",
       "    </tr>\n",
       "    <tr>\n",
       "      <th>33</th>\n",
       "      <td>purpose_major_purchase</td>\n",
       "      <td>0.000342</td>\n",
       "    </tr>\n",
       "    <tr>\n",
       "      <th>64</th>\n",
       "      <td>purpose_moving</td>\n",
       "      <td>0.000285</td>\n",
       "    </tr>\n",
       "    <tr>\n",
       "      <th>70</th>\n",
       "      <td>purpose_house</td>\n",
       "      <td>0.000171</td>\n",
       "    </tr>\n",
       "    <tr>\n",
       "      <th>56</th>\n",
       "      <td>numtl30dpd</td>\n",
       "      <td>0.000057</td>\n",
       "    </tr>\n",
       "    <tr>\n",
       "      <th>39</th>\n",
       "      <td>chargeoffwithin12mths</td>\n",
       "      <td>0.000057</td>\n",
       "    </tr>\n",
       "    <tr>\n",
       "      <th>91</th>\n",
       "      <td>accnowdelinq</td>\n",
       "      <td>0.000057</td>\n",
       "    </tr>\n",
       "  </tbody>\n",
       "</table>\n",
       "<p>100 rows × 2 columns</p>\n",
       "</div>"
      ],
      "text/plain": [
       "                               feature    fscore\n",
       "62                                 dti  0.038418\n",
       "75                       emptitle_freq  0.030609\n",
       "25                         installment  0.029184\n",
       "82                             zipcode  0.027417\n",
       "28                      mosinoldilacct  0.026790\n",
       "40                     mosinoldrevtlop  0.026163\n",
       "48                     mthssincercntil  0.024909\n",
       "29                           annualinc  0.024624\n",
       "14                            maxbalbc  0.024339\n",
       "13                        tothicredlim  0.023940\n",
       "0                          bcopentobuy  0.023769\n",
       "58                              bcutil  0.023427\n",
       "27                           avgcurbal  0.023142\n",
       "61                             intrate  0.022629\n",
       "30                           revolutil  0.022287\n",
       "52                        zipcode_freq  0.022059\n",
       "35                              ilutil  0.021888\n",
       "34                   mthssincerecentbc  0.021033\n",
       "78                            revolbal  0.018981\n",
       "60                earliestcrline_month  0.018411\n",
       "23                            loanamnt  0.018126\n",
       "12                 mthssincelastdelinq  0.017328\n",
       "15                       totalrevhilim  0.017214\n",
       "44                  mthssincerecentinq  0.016530\n",
       "90                        totalbclimit  0.016416\n",
       "4                       totalbalexmort  0.014991\n",
       "84              totalilhighcreditlimit  0.014877\n",
       "66                   accopenpast24mths  0.014022\n",
       "3                            totcurbal  0.013908\n",
       "47             mthssincelastmajorderog  0.013737\n",
       "..                                 ...       ...\n",
       "16                       numtl120dpd2m  0.002622\n",
       "43                           openil12m  0.002451\n",
       "20              homeownership_MORTGAGE  0.002280\n",
       "19          purpose_debt_consolidation  0.002280\n",
       "77                            dtijoint  0.002223\n",
       "54  verificationstatus_Source Verified  0.002052\n",
       "50                               grade  0.001995\n",
       "18                      annualincjoint  0.001824\n",
       "32              purpose_small_business  0.001653\n",
       "24     verificationstatus_Not Verified  0.001596\n",
       "76                     purpose_medical  0.001482\n",
       "87                          delinqamnt  0.001368\n",
       "17         verificationstatus_Verified  0.001368\n",
       "99                  pubrecbankruptcies  0.001311\n",
       "81                 purpose_credit_card  0.001197\n",
       "86                      numtl90gdpd24m  0.001026\n",
       "41                            taxliens  0.001026\n",
       "65                              pubrec  0.000969\n",
       "85              collections12mthsexmed  0.000855\n",
       "49                   initialliststatus  0.000798\n",
       "37            purpose_home_improvement  0.000798\n",
       "38                    purpose_vacation  0.000684\n",
       "69                   homeownership_OWN  0.000684\n",
       "11                       purpose_other  0.000399\n",
       "33              purpose_major_purchase  0.000342\n",
       "64                      purpose_moving  0.000285\n",
       "70                       purpose_house  0.000171\n",
       "56                          numtl30dpd  0.000057\n",
       "39               chargeoffwithin12mths  0.000057\n",
       "91                        accnowdelinq  0.000057\n",
       "\n",
       "[100 rows x 2 columns]"
      ]
     },
     "execution_count": 103,
     "metadata": {},
     "output_type": "execute_result"
    }
   ],
   "source": [
    "df_importance.sort_values(['fscore'], ascending=False, inplace=True)\n",
    "df_importance"
   ]
  },
  {
   "cell_type": "code",
   "execution_count": 104,
   "metadata": {},
   "outputs": [
    {
     "data": {
      "text/plain": [
       "<matplotlib.figure.Figure at 0x207ec710>"
      ]
     },
     "metadata": {},
     "output_type": "display_data"
    },
    {
     "data": {
      "image/png": "[encoded data removed]",
      "text/plain": [
       "<matplotlib.figure.Figure at 0x208026a0>"
      ]
     },
     "metadata": {},
     "output_type": "display_data"
    }
   ],
   "source": [
    "plt.figure(figsize=(32, 32))\n",
    "# df_importance.plot()\n",
    "df_importance[:20].plot(kind='barh', x='feature', y='fscore', legend=False, figsize=(6, 10))\n",
    "plt.title('XGBoost Feature Importance')\n",
    "plt.xlabel('relative importance')\n",
    "plt.gcf().savefig('feature_importance_xgb.png')"
   ]
  },
  {
   "cell_type": "code",
   "execution_count": 105,
   "metadata": {},
   "outputs": [
    {
     "data": {
      "text/html": [
       "<div>\n",
       "<style>\n",
       "    .dataframe thead tr:only-child th {\n",
       "        text-align: right;\n",
       "    }\n",
       "\n",
       "    .dataframe thead th {\n",
       "        text-align: left;\n",
       "    }\n",
       "\n",
       "    .dataframe tbody tr th {\n",
       "        vertical-align: top;\n",
       "    }\n",
       "</style>\n",
       "<table border=\"1\" class=\"dataframe\">\n",
       "  <thead>\n",
       "    <tr style=\"text-align: right;\">\n",
       "      <th></th>\n",
       "      <th>feature</th>\n",
       "      <th>fscore</th>\n",
       "    </tr>\n",
       "  </thead>\n",
       "  <tbody>\n",
       "    <tr>\n",
       "      <th>50</th>\n",
       "      <td>grade</td>\n",
       "      <td>0.001995</td>\n",
       "    </tr>\n",
       "  </tbody>\n",
       "</table>\n",
       "</div>"
      ],
      "text/plain": [
       "   feature    fscore\n",
       "50   grade  0.001995"
      ]
     },
     "execution_count": 105,
     "metadata": {},
     "output_type": "execute_result"
    }
   ],
   "source": [
    "grade_importance = df_importance.query(\"feature=='grade'\")\n",
    "grade_importance"
   ]
  },
  {
   "cell_type": "code",
   "execution_count": 106,
   "metadata": {},
   "outputs": [
    {
     "data": {
      "text/html": [
       "<div>\n",
       "<style>\n",
       "    .dataframe thead tr:only-child th {\n",
       "        text-align: right;\n",
       "    }\n",
       "\n",
       "    .dataframe thead th {\n",
       "        text-align: left;\n",
       "    }\n",
       "\n",
       "    .dataframe tbody tr th {\n",
       "        vertical-align: top;\n",
       "    }\n",
       "</style>\n",
       "<table border=\"1\" class=\"dataframe\">\n",
       "  <thead>\n",
       "    <tr style=\"text-align: right;\">\n",
       "      <th></th>\n",
       "      <th>feature</th>\n",
       "      <th>fscore</th>\n",
       "    </tr>\n",
       "  </thead>\n",
       "  <tbody>\n",
       "    <tr>\n",
       "      <th>5</th>\n",
       "      <td>subgrade</td>\n",
       "      <td>0.010146</td>\n",
       "    </tr>\n",
       "  </tbody>\n",
       "</table>\n",
       "</div>"
      ],
      "text/plain": [
       "    feature    fscore\n",
       "5  subgrade  0.010146"
      ]
     },
     "execution_count": 106,
     "metadata": {},
     "output_type": "execute_result"
    }
   ],
   "source": [
    "subgrade_importance = df_importance.query(\"feature=='subgrade'\")\n",
    "subgrade_importance"
   ]
  },
  {
   "cell_type": "code",
   "execution_count": 107,
   "metadata": {},
   "outputs": [
    {
     "data": {
      "text/html": [
       "<div>\n",
       "<style>\n",
       "    .dataframe thead tr:only-child th {\n",
       "        text-align: right;\n",
       "    }\n",
       "\n",
       "    .dataframe thead th {\n",
       "        text-align: left;\n",
       "    }\n",
       "\n",
       "    .dataframe tbody tr th {\n",
       "        vertical-align: top;\n",
       "    }\n",
       "</style>\n",
       "<table border=\"1\" class=\"dataframe\">\n",
       "  <thead>\n",
       "    <tr style=\"text-align: right;\">\n",
       "      <th></th>\n",
       "      <th>feature</th>\n",
       "      <th>fscore</th>\n",
       "    </tr>\n",
       "  </thead>\n",
       "  <tbody>\n",
       "    <tr>\n",
       "      <th>61</th>\n",
       "      <td>intrate</td>\n",
       "      <td>0.022629</td>\n",
       "    </tr>\n",
       "  </tbody>\n",
       "</table>\n",
       "</div>"
      ],
      "text/plain": [
       "    feature    fscore\n",
       "61  intrate  0.022629"
      ]
     },
     "execution_count": 107,
     "metadata": {},
     "output_type": "execute_result"
    }
   ],
   "source": [
    "intrate_importance = df_importance.query(\"feature=='intrate'\")\n",
    "intrate_importance"
   ]
  },
  {
   "cell_type": "code",
   "execution_count": 108,
   "metadata": {},
   "outputs": [
    {
     "data": {
      "text/html": [
       "<div>\n",
       "<style>\n",
       "    .dataframe thead tr:only-child th {\n",
       "        text-align: right;\n",
       "    }\n",
       "\n",
       "    .dataframe thead th {\n",
       "        text-align: left;\n",
       "    }\n",
       "\n",
       "    .dataframe tbody tr th {\n",
       "        vertical-align: top;\n",
       "    }\n",
       "</style>\n",
       "<table border=\"1\" class=\"dataframe\">\n",
       "  <thead>\n",
       "    <tr style=\"text-align: right;\">\n",
       "      <th></th>\n",
       "      <th>feature</th>\n",
       "      <th>fscore</th>\n",
       "    </tr>\n",
       "  </thead>\n",
       "  <tbody>\n",
       "    <tr>\n",
       "      <th>23</th>\n",
       "      <td>loanamnt</td>\n",
       "      <td>0.018126</td>\n",
       "    </tr>\n",
       "  </tbody>\n",
       "</table>\n",
       "</div>"
      ],
      "text/plain": [
       "     feature    fscore\n",
       "23  loanamnt  0.018126"
      ]
     },
     "execution_count": 108,
     "metadata": {},
     "output_type": "execute_result"
    }
   ],
   "source": [
    "df_importance.query(\"feature=='loanamnt'\")"
   ]
  },
  {
   "cell_type": "code",
   "execution_count": 109,
   "metadata": {},
   "outputs": [
    {
     "data": {
      "text/plain": [
       "<matplotlib.text.Text at 0x27ff15f8>"
      ]
     },
     "execution_count": 109,
     "metadata": {},
     "output_type": "execute_result"
    },
    {
     "data": {
      "text/plain": [
       "<matplotlib.figure.Figure at 0x1feb5390>"
      ]
     },
     "metadata": {},
     "output_type": "display_data"
    },
    {
     "data": {
      "image/png": "[encoded data removed]",
      "text/plain": [
       "<matplotlib.figure.Figure at 0x21bddeb8>"
      ]
     },
     "metadata": {},
     "output_type": "display_data"
    }
   ],
   "source": [
    "plt.figure(figsize=(32, 32))\n",
    "# df_importance.plot()\n",
    "df_importance.plot(kind='barh', x='feature', y='fscore', legend=False, figsize=(6, 10))\n",
    "plt.title('XGBoost Feature Importance')\n",
    "plt.xlabel('relative importance')"
   ]
  },
  {
   "cell_type": "markdown",
   "metadata": {},
   "source": [
    "## Save model"
   ]
  },
  {
   "cell_type": "code",
   "execution_count": 110,
   "metadata": {
    "collapsed": true
   },
   "outputs": [],
   "source": [
    "import pickle"
   ]
  },
  {
   "cell_type": "code",
   "execution_count": 111,
   "metadata": {
    "collapsed": true
   },
   "outputs": [],
   "source": [
    "pickle.dump(gbm, open('model.pkl', \"wb\"))"
   ]
  },
  {
   "cell_type": "code",
   "execution_count": 112,
   "metadata": {},
   "outputs": [
    {
     "data": {
      "text/plain": [
       "['pima.joblib.dat']"
      ]
     },
     "execution_count": 112,
     "metadata": {},
     "output_type": "execute_result"
    }
   ],
   "source": [
    "from sklearn.externals import joblib\n",
    "joblib.dump(gbm, \"pima.joblib.dat\")"
   ]
  },
  {
   "cell_type": "code",
   "execution_count": 113,
   "metadata": {
    "collapsed": true
   },
   "outputs": [],
   "source": [
    "with open('model.pkl', 'w') as outfile:\n",
    "  \n",
    "    pickle.dump(gbm, outfile)"
   ]
  },
  {
   "cell_type": "code",
   "execution_count": null,
   "metadata": {
    "collapsed": true
   },
   "outputs": [],
   "source": []
  }
 ],
 "metadata": {
  "anaconda-cloud": {},
  "kernelspec": {
   "display_name": "Python [conda root]",
   "language": "python",
   "name": "conda-root-py"
  },
  "language_info": {
   "codemirror_mode": {
    "name": "ipython",
    "version": 2
   },
   "file_extension": ".py",
   "mimetype": "text/x-python",
   "name": "python",
   "nbconvert_exporter": "python",
   "pygments_lexer": "ipython2",
   "version": "2.7.13"
  }
 },
 "nbformat": 4,
 "nbformat_minor": 1
}
