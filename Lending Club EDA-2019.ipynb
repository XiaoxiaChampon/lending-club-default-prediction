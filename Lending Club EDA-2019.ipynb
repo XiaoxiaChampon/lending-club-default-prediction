{
 "cells": [
  {
   "cell_type": "markdown",
   "metadata": {},
   "source": [
    "# Lending Club EDA"
   ]
  },
  {
   "cell_type": "code",
   "execution_count": 1,
   "metadata": {
    "collapsed": true
   },
   "outputs": [],
   "source": [
    "import pandas as pd\n",
    "import numpy as np\n",
    "import matplotlib.pyplot as plt\n",
    "%matplotlib inline\n",
    "import seaborn as sns"
   ]
  },
  {
   "cell_type": "markdown",
   "metadata": {},
   "source": [
    "## Loan_2016 data"
   ]
  },
  {
   "cell_type": "code",
   "execution_count": 2,
   "metadata": {},
   "outputs": [
    {
     "name": "stderr",
     "output_type": "stream",
     "text": [
      "C:\\Users\\Weiqun\\Anaconda2\\lib\\site-packages\\IPython\\core\\interactiveshell.py:2718: DtypeWarning: Columns (16,37) have mixed types. Specify dtype option on import or set low_memory=False.\n",
      "  interactivity=interactivity, compiler=compiler, result=result)\n"
     ]
    }
   ],
   "source": [
    "# check columns(16,37) to confirm the warning message\n",
    "\n",
    "df = pd.read_csv('loan_2016.csv') "
   ]
  },
  {
   "cell_type": "code",
   "execution_count": 3,
   "metadata": {
    "collapsed": true
   },
   "outputs": [],
   "source": [
    "cols=df.columns.values"
   ]
  },
  {
   "cell_type": "code",
   "execution_count": 4,
   "metadata": {},
   "outputs": [
    {
     "name": "stdout",
     "output_type": "stream",
     "text": [
      "['verificationstatusjoint' 'desc']\n"
     ]
    }
   ],
   "source": [
    "print (cols[[16,37]])"
   ]
  },
  {
   "cell_type": "code",
   "execution_count": 5,
   "metadata": {
    "scrolled": true
   },
   "outputs": [
    {
     "data": {
      "text/plain": [
       "dtype('O')"
      ]
     },
     "execution_count": 5,
     "metadata": {},
     "output_type": "execute_result"
    }
   ],
   "source": [
    "df[cols[16]].dtype"
   ]
  },
  {
   "cell_type": "code",
   "execution_count": 6,
   "metadata": {},
   "outputs": [
    {
     "data": {
      "text/plain": [
       "dtype('O')"
      ]
     },
     "execution_count": 6,
     "metadata": {},
     "output_type": "execute_result"
    }
   ],
   "source": [
    "df[cols[37]].dtype"
   ]
  },
  {
   "cell_type": "markdown",
   "metadata": {},
   "source": [
    "## 19 object, 89 numeric (but 14 of them are all Nulls)"
   ]
  },
  {
   "cell_type": "code",
   "execution_count": 7,
   "metadata": {},
   "outputs": [
    {
     "name": "stdout",
     "output_type": "stream",
     "text": [
      "<class 'pandas.core.frame.DataFrame'>\n",
      "RangeIndex: 434407 entries, 0 to 434406\n",
      "Columns: 108 entries, secappopenactil to loanstatus\n",
      "dtypes: float64(88), int64(1), object(19)\n",
      "memory usage: 357.9+ MB\n"
     ]
    }
   ],
   "source": [
    "df.info()"
   ]
  },
  {
   "cell_type": "markdown",
   "metadata": {},
   "source": [
    "## Find all_null_feature, num_feature, ob_feature"
   ]
  },
  {
   "cell_type": "code",
   "execution_count": 8,
   "metadata": {
    "scrolled": true
   },
   "outputs": [
    {
     "name": "stdout",
     "output_type": "stream",
     "text": [
      "id is int\n"
     ]
    }
   ],
   "source": [
    "all_null_feature=[]\n",
    "num_feature=[]\n",
    "ob_feature=[]\n",
    "for col in cols:\n",
    "    if df[col].isnull().sum()==df.shape[0]:\n",
    "        all_null_feature.append(col)\n",
    "    else:\n",
    "        if df[col].dtype == 'object':\n",
    "            ob_feature.append(col)\n",
    "        else:\n",
    "            num_feature.append(col)\n",
    "            if df[col].dtype == 'int64':\n",
    "                print (col + \" is int\")\n",
    "    "
   ]
  },
  {
   "cell_type": "code",
   "execution_count": 9,
   "metadata": {},
   "outputs": [
    {
     "name": "stdout",
     "output_type": "stream",
     "text": [
      "75 19\n",
      "14\n"
     ]
    }
   ],
   "source": [
    "print len(num_feature), len(ob_feature)\n",
    "print len(all_null_feature)"
   ]
  },
  {
   "cell_type": "code",
   "execution_count": 10,
   "metadata": {},
   "outputs": [
    {
     "data": {
      "text/plain": [
       "['secappopenactil',\n",
       " 'secappnumrevaccts',\n",
       " 'secappmthssincelastmajorderog',\n",
       " 'secappcollections12mthsexmed',\n",
       " 'revolbaljoint',\n",
       " 'secappopenacc',\n",
       " 'secappficorangelow',\n",
       " 'memberid',\n",
       " 'secappmortacc',\n",
       " 'secappearliestcrline',\n",
       " 'secappchargeoffwithin12mths',\n",
       " 'secapprevolutil',\n",
       " 'secappficorangehigh',\n",
       " 'secappinqlast6mths']"
      ]
     },
     "execution_count": 10,
     "metadata": {},
     "output_type": "execute_result"
    }
   ],
   "source": [
    "all_null_feature"
   ]
  },
  {
   "cell_type": "code",
   "execution_count": 11,
   "metadata": {},
   "outputs": [
    {
     "data": {
      "text/plain": [
       "['bcopentobuy',\n",
       " 'numactvbctl',\n",
       " 'mthssincelastrecord',\n",
       " 'totcurbal',\n",
       " 'mosinrcnttl',\n",
       " 'openrv12m',\n",
       " 'inqlast12m',\n",
       " 'mortacc',\n",
       " 'mthssincelastdelinq',\n",
       " 'numactvrevtl',\n",
       " 'tothicredlim',\n",
       " 'ficorangehigh',\n",
       " 'maxbalbc',\n",
       " 'openil24m',\n",
       " 'numbctl',\n",
       " 'totalrevhilim',\n",
       " 'totcollamt',\n",
       " 'numtl120dpd2m',\n",
       " 'totalbalexmort',\n",
       " 'annualincjoint',\n",
       " 'ficorangelow',\n",
       " 'totalacc',\n",
       " 'mthssincerecentbcdlq',\n",
       " 'installment',\n",
       " 'numrevaccts',\n",
       " 'pubrec',\n",
       " 'accopenpast24mths',\n",
       " 'numoprevtl',\n",
       " 'avgcurbal',\n",
       " 'openactil',\n",
       " 'dti',\n",
       " 'openacc6m',\n",
       " 'totalbalil',\n",
       " 'delinq2yrs',\n",
       " 'fundedamnt',\n",
       " 'mosinoldilacct',\n",
       " 'annualinc',\n",
       " 'inqfi',\n",
       " 'numtl30dpd',\n",
       " 'loanamnt',\n",
       " 'numsats',\n",
       " 'mthssincerecentrevoldelinq',\n",
       " 'mthssincerecentbc',\n",
       " 'id',\n",
       " 'revolbal',\n",
       " 'inqlast6mths',\n",
       " 'mthssincercntil',\n",
       " 'openrv24m',\n",
       " 'totalilhighcreditlimit',\n",
       " 'collections12mthsexmed',\n",
       " 'chargeoffwithin12mths',\n",
       " 'numtl90gdpd24m',\n",
       " 'delinqamnt',\n",
       " 'mosinoldrevtlop',\n",
       " 'taxliens',\n",
       " 'numbcsats',\n",
       " 'totalbclimit',\n",
       " 'dtijoint',\n",
       " 'numacctsever120pd',\n",
       " 'accnowdelinq',\n",
       " 'openil12m',\n",
       " 'pcttlnvrdlq',\n",
       " 'bcutil',\n",
       " 'mthssincerecentinq',\n",
       " 'numiltl',\n",
       " 'mosinrcntrevtlop',\n",
       " 'allutil',\n",
       " 'openacc',\n",
       " 'numrevtlbalgt0',\n",
       " 'totalcutl',\n",
       " 'mthssincelastmajorderog',\n",
       " 'numtloppast12m',\n",
       " 'percentbcgt75',\n",
       " 'pubrecbankruptcies',\n",
       " 'ilutil']"
      ]
     },
     "execution_count": 11,
     "metadata": {},
     "output_type": "execute_result"
    }
   ],
   "source": [
    "num_feature"
   ]
  },
  {
   "cell_type": "code",
   "execution_count": 12,
   "metadata": {
    "scrolled": true
   },
   "outputs": [
    {
     "data": {
      "text/plain": [
       "['initialliststatus',\n",
       " 'grade',\n",
       " 'subgrade',\n",
       " 'verificationstatusjoint',\n",
       " 'earliestcrline',\n",
       " 'applicationtype',\n",
       " 'intrate',\n",
       " 'desc',\n",
       " 'term',\n",
       " 'homeownership',\n",
       " 'addrstate',\n",
       " 'revolutil',\n",
       " 'zipcode',\n",
       " 'verificationstatus',\n",
       " 'emptitle',\n",
       " 'emplength',\n",
       " 'purpose',\n",
       " 'issued',\n",
       " 'loanstatus']"
      ]
     },
     "execution_count": 12,
     "metadata": {},
     "output_type": "execute_result"
    }
   ],
   "source": [
    "ob_feature"
   ]
  },
  {
   "cell_type": "code",
   "execution_count": 13,
   "metadata": {},
   "outputs": [
    {
     "name": "stdout",
     "output_type": "stream",
     "text": [
      "initialliststatus\n"
     ]
    }
   ],
   "source": [
    "i=0\n",
    "feat = ob_feature[i]\n",
    "print feat"
   ]
  },
  {
   "cell_type": "code",
   "execution_count": 14,
   "metadata": {},
   "outputs": [
    {
     "name": "stdout",
     "output_type": "stream",
     "text": [
      "0\n"
     ]
    },
    {
     "data": {
      "text/plain": [
       "w    333732\n",
       "f    100675\n",
       "Name: initialliststatus, dtype: int64"
      ]
     },
     "execution_count": 14,
     "metadata": {},
     "output_type": "execute_result"
    }
   ],
   "source": [
    "print df[feat].isnull().sum()\n",
    "df[feat].value_counts()"
   ]
  },
  {
   "cell_type": "code",
   "execution_count": 15,
   "metadata": {},
   "outputs": [
    {
     "name": "stdout",
     "output_type": "stream",
     "text": [
      "grade\n",
      "0\n"
     ]
    },
    {
     "data": {
      "text/plain": [
       "B    134512\n",
       "C    132178\n",
       "A     70847\n",
       "D     59178\n",
       "E     25807\n",
       "F      9334\n",
       "G      2551\n",
       "Name: grade, dtype: int64"
      ]
     },
     "execution_count": 15,
     "metadata": {},
     "output_type": "execute_result"
    }
   ],
   "source": [
    "i=1\n",
    "feat = ob_feature[i]\n",
    "print feat\n",
    "print df[feat].isnull().sum()\n",
    "df[feat].value_counts()"
   ]
  },
  {
   "cell_type": "code",
   "execution_count": 16,
   "metadata": {},
   "outputs": [
    {
     "name": "stdout",
     "output_type": "stream",
     "text": [
      "subgrade\n",
      "0\n"
     ]
    },
    {
     "data": {
      "text/plain": [
       "C1    31576\n",
       "B5    31339\n",
       "B4    29053\n",
       "C2    26596\n",
       "B3    25898\n",
       "C4    25878\n",
       "C3    25290\n",
       "B1    24466\n",
       "B2    23756\n",
       "C5    22838\n",
       "A1    18722\n",
       "A5    16631\n",
       "D1    15166\n",
       "A4    14731\n",
       "D2    14361\n",
       "D3    10828\n",
       "A2    10748\n",
       "D4    10385\n",
       "A3    10015\n",
       "D5     8438\n",
       "E1     7472\n",
       "E3     5242\n",
       "E2     5023\n",
       "E4     4351\n",
       "E5     3719\n",
       "F1     2858\n",
       "F2     2189\n",
       "F3     1691\n",
       "F4     1392\n",
       "F5     1204\n",
       "G1      776\n",
       "G2      622\n",
       "G3      480\n",
       "G4      367\n",
       "G5      306\n",
       "Name: subgrade, dtype: int64"
      ]
     },
     "execution_count": 16,
     "metadata": {},
     "output_type": "execute_result"
    }
   ],
   "source": [
    "i=2\n",
    "feat = ob_feature[i]\n",
    "print feat\n",
    "print df[feat].isnull().sum()\n",
    "df[feat].value_counts()"
   ]
  },
  {
   "cell_type": "code",
   "execution_count": 17,
   "metadata": {},
   "outputs": [
    {
     "name": "stdout",
     "output_type": "stream",
     "text": [
      "verificationstatusjoint\n",
      "425618\n"
     ]
    },
    {
     "data": {
      "text/plain": [
       "Not Verified    8789\n",
       "Name: verificationstatusjoint, dtype: int64"
      ]
     },
     "execution_count": 17,
     "metadata": {},
     "output_type": "execute_result"
    }
   ],
   "source": [
    "# most is null, very small portion （2%） is Not Verified\n",
    "i=3\n",
    "feat = ob_feature[i]\n",
    "print feat\n",
    "print df[feat].isnull().sum()\n",
    "df[feat].value_counts()"
   ]
  },
  {
   "cell_type": "code",
   "execution_count": 18,
   "metadata": {},
   "outputs": [
    {
     "name": "stdout",
     "output_type": "stream",
     "text": [
      "earliestcrline\n",
      "0\n"
     ]
    },
    {
     "data": {
      "text/plain": [
       "Sep-2003    3273\n",
       "Aug-2003    3273\n",
       "Sep-2004    3224\n",
       "Sep-2005    3126\n",
       "Aug-2004    3106\n",
       "Aug-2002    2996\n",
       "Oct-2003    2974\n",
       "Aug-2005    2957\n",
       "Oct-2004    2909\n",
       "Sep-2002    2907\n",
       "Aug-2001    2858\n",
       "Jul-2003    2825\n",
       "Oct-2002    2727\n",
       "Jul-2004    2693\n",
       "Oct-2001    2683\n",
       "Mar-2004    2677\n",
       "Nov-2004    2648\n",
       "Aug-2006    2637\n",
       "Aug-2000    2588\n",
       "Oct-2005    2490\n",
       "Mar-2005    2472\n",
       "Nov-2002    2469\n",
       "Jun-2005    2458\n",
       "Jun-2003    2443\n",
       "Jul-2002    2414\n",
       "Nov-2003    2412\n",
       "May-2004    2387\n",
       "Jun-2004    2379\n",
       "Dec-2004    2377\n",
       "Jul-2005    2374\n",
       "            ... \n",
       "Apr-1955       1\n",
       "Feb-1960       1\n",
       "Mar-1962       1\n",
       "Jun-1959       1\n",
       "Jun-1958       1\n",
       "Feb-1945       1\n",
       "Jun-1952       1\n",
       "Jun-1957       1\n",
       "Mar-1933       1\n",
       "Sep-1963       1\n",
       "Nov-1960       1\n",
       "Feb-1962       1\n",
       "May-1958       1\n",
       "Jul-1961       1\n",
       "Jun-1961       1\n",
       "Jul-1951       1\n",
       "Nov-1957       1\n",
       "Jan-1948       1\n",
       "Jul-1952       1\n",
       "Aug-1941       1\n",
       "Oct-1961       1\n",
       "Jan-1955       1\n",
       "Aug-1960       1\n",
       "May-1961       1\n",
       "Aug-1962       1\n",
       "Jan-1953       1\n",
       "Jan-1952       1\n",
       "Mar-1957       1\n",
       "Mar-1955       1\n",
       "Mar-1954       1\n",
       "Name: earliestcrline, Length: 670, dtype: int64"
      ]
     },
     "execution_count": 18,
     "metadata": {},
     "output_type": "execute_result"
    }
   ],
   "source": [
    "# date format, convert to time difference, eg, months to 2019 and thus is a numeric feature\n",
    "# when the time is too late, it might be not reliable for short period of credit behavior; when the time is too early, it means very old lender.\n",
    "i=4\n",
    "feat = ob_feature[i]\n",
    "print feat\n",
    "print df[feat].isnull().sum()\n",
    "df[feat].value_counts()"
   ]
  },
  {
   "cell_type": "code",
   "execution_count": 19,
   "metadata": {},
   "outputs": [
    {
     "name": "stdout",
     "output_type": "stream",
     "text": [
      "applicationtype\n",
      "0\n"
     ]
    },
    {
     "data": {
      "text/plain": [
       "Individual    425618\n",
       "Joint App       8789\n",
       "Name: applicationtype, dtype: int64"
      ]
     },
     "execution_count": 19,
     "metadata": {},
     "output_type": "execute_result"
    }
   ],
   "source": [
    "# Mainly individual, 2% joint app. consistent with 'verificationstatusjoint', means that it only has one variance 'not verified', thus can be excluded from modeling.\n",
    "\n",
    "i=5\n",
    "feat = ob_feature[i]\n",
    "print feat\n",
    "print df[feat].isnull().sum()\n",
    "df[feat].value_counts()"
   ]
  },
  {
   "cell_type": "code",
   "execution_count": 20,
   "metadata": {},
   "outputs": [
    {
     "name": "stdout",
     "output_type": "stream",
     "text": [
      "intrate\n",
      "0\n"
     ]
    },
    {
     "data": {
      "text/plain": [
       "  5.32%    18722\n",
       " 11.49%    17432\n",
       " 13.99%    15192\n",
       " 11.99%    14545\n",
       " 13.49%    14002\n",
       " 11.47%    11808\n",
       "  9.75%    11770\n",
       " 10.75%    11683\n",
       " 10.49%    11655\n",
       " 18.99%    11123\n",
       " 12.99%    10736\n",
       "  9.16%    10396\n",
       " 13.67%     9990\n",
       " 12.79%     9897\n",
       "  8.39%     9638\n",
       " 14.46%     9626\n",
       " 10.99%     9546\n",
       " 14.49%     8875\n",
       "  7.39%     8760\n",
       " 19.99%     8721\n",
       " 17.99%     8495\n",
       "  7.89%     8210\n",
       " 15.31%     8131\n",
       " 15.59%     8023\n",
       " 16.99%     7486\n",
       " 12.74%     7121\n",
       "  9.49%     7083\n",
       "  8.99%     6988\n",
       " 16.29%     6509\n",
       "  6.49%     6416\n",
       "           ...  \n",
       " 26.06%      109\n",
       " 30.84%       87\n",
       " 30.89%       67\n",
       " 30.94%       51\n",
       " 27.99%       39\n",
       " 13.18%       34\n",
       "  9.76%       32\n",
       " 12.59%       31\n",
       " 10.64%       31\n",
       " 11.22%       27\n",
       " 28.49%       26\n",
       "  8.38%       25\n",
       " 14.48%       24\n",
       " 15.41%       21\n",
       " 17.57%       15\n",
       " 16.55%       13\n",
       "  7.26%       13\n",
       "  6.24%        9\n",
       " 17.86%        7\n",
       "  6.89%        7\n",
       " 22.99%        3\n",
       " 27.31%        3\n",
       " 18.20%        3\n",
       " 25.99%        2\n",
       " 21.99%        2\n",
       " 26.77%        2\n",
       " 14.77%        2\n",
       " 15.29%        2\n",
       " 13.19%        1\n",
       " 11.16%        1\n",
       "Name: intrate, Length: 141, dtype: int64"
      ]
     },
     "execution_count": 20,
     "metadata": {},
     "output_type": "execute_result"
    }
   ],
   "source": [
    "i=6\n",
    "feat = ob_feature[i]\n",
    "print feat\n",
    "print df[feat].isnull().sum()\n",
    "df[feat].value_counts()"
   ]
  },
  {
   "cell_type": "code",
   "execution_count": 21,
   "metadata": {},
   "outputs": [
    {
     "name": "stdout",
     "output_type": "stream",
     "text": [
      "desc\n",
      "434384\n"
     ]
    },
    {
     "data": {
      "text/plain": [
       "                                                                                                                                                                                                                                                                                                                                                                                                                                                                                                                                                                                                                                                                                                                                                                                                                                                                                                                                                                                                                                                                                                          6\n",
       "My wife and I are having our first child in March 2009, and we need to consolidate a bunch of 20-30% credit card debt that we've been ever so slowly paying down into a manageable lower payment.                                                                                                                                                                                                                                                                                                                                                                                                                                                                                                                                                                                                                                                                                                                                                                                                                                                                                                         1\n",
       "Hello, I have a credit card consolidation loan at 23% interest. Please help me to get a better rate!                                                                                                                                                                                                                                                                                                                                                                                                                                                                                                                                                                                                                                                                                                                                                                                                                                                                                                                                                                                                      1\n",
       "Hi! So $5,500 doesn't sound like much to be debt free. Well, when you're 24 years old it seems like quite a bit. I was foolish enough to buy into those \"bad credit auto loans\". Here is what happened.. I bought an old car. I had an extremely high monthly payment. I missed other payments on other accounts due to having to pay for repairs in addition to my monthly payment.  The money will pay off the existing loan, and also pay off some credit card debt.  I will be debt free except for my payment to you.  I don't care what the interest rate is, honestly, as long as it doesn't go above 15% (my current car loan rate).   Let me know if you can help me. I would really appreciate it.                                                                                                                                                                                                                                                                                                                                                                                              1\n",
       "Temporary cash flow challenges. Would like this loan to offset mortgage payments-next 90 days. Have owned current residence 22years and have never been late on a payment.  I am self employed in the same business for 31 years in the same location. Wife works for local school district full time.                                                                                                                                                                                                                                                                                                                                                                                                                                                                                                                                                                                                                                                                                                                                                                                                    1\n",
       "To whom it may concern,     Hello, my name is David McLean.  I am requesting a loan to consolidate some high interest revolving credit.    The interest rates go anywhere from 14-29.9%.  I am a very reliable person that meets his obligations and pays his debts.   In nearly 15 years, I have not missed or been late on a payment except once due to an oversight.   I have a stable life and home with a good job of nearly 6yrs with plans of retiring from there.  Thank you for your thoughtful consideration.                                                                                                                                                                                                                                                                                                                                                                                                                                                                                                                                                                                   1\n",
       "This loan is to pay off a few debts and put me in the position to start my company as well as buy a property at a really cheap value.. This is a needed step to make all my dreams come true. I have a good job that pays well but i need this beccause this is a one time opportunity.                                                                                                                                                                                                                                                                                                                                                                                                                                                                                                                                                                                                                                                                                                                                                                                                                   1\n",
       "I have problems with one of my loans what I have it is with household-beneficial finance bank it is for $15,250.00 and the interest rate is 25.8% and the payment is 323 monthly and I have 3 months pass due, I page all time in time but the situacion make loss that way cause the gas bill was very higher and the last mont the second day my Mother die and was very expensive for us her funeral cause she die here but we bring her body to Nicaragua, and the rest is for a loan with American General Finance $2,500.00, Wells Fargo $480.00 , Fifth Third Bank Optimun $357.00, all make a total of $18,587.00, please I need cause I get some problems with the big loan with household-beneficial.                                                                                                                                                                                                                                                                                                                                                                                           1\n",
       "I am looking to pay off my credit card debts.                                                                                                                                                                                                                                                                                                                                                                                                                                                                                                                                                                                                                                                                                                                                                                                                                                                                                                                                                                                                                                                             1\n",
       "1:1 Income to Debt ratio; this required excellent credit to get into this situation.  Paying off a failed business venture from 6 years past, 2 years unemployement (off the books), and 2 years very low wages; all following the fallout of the dot com bust.  I am now, again, gainfully employed in the software industry, with a stable company. (4 years)  I have recently been adversely affected by the CC company's manipulating my credit score, as a result of them cutting my available credit in 1/2, taking my balances from < 40% of available credit, to > 80% of available credit, and tripling my interest rate.  (I thought I had more time :())  Funds from this loan will be used to pay off high interest rate credit cards.   This will allow additional monthly income to go towards paying off remaining short term low interest rate credit cards; which will, allow in turn, the early payoff of this loan.                                                                                                                                                                    1\n",
       "I recently married and since this was the second time for both of us we decided we would pay everything ourselves. Things were going good until my wife was diagnosed with an illness that had prevented her from working. She is back to work now but the bills didn't wait and with the high intrest we have found ourseleves in a bind.                                                                                                                                                                                                                                                                                                                                                                                                                                                                                                                                                                                                                                                                                                                                                                1\n",
       "I developed poor credit in college due to not having a job and not being able to pay my credit card bills all the time. I am a recent graduate and am employeed with a very large and prestigous contractor. I have a steady income and want to get out of debt. Please help me out. Thank you                                                                                                                                                                                                                                                                                                                                                                                                                                                                                                                                                                                                                                                                                                                                                                                                            1\n",
       "This loan will be used solely to consolidate credit card debts accrued while wife was/is unemployed.                                                                                                                                                                                                                                                                                                                                                                                                                                                                                                                                                                                                                                                                                                                                                                                                                                                                                                                                                                                                      1\n",
       "I have recently purchased and built a new home that I have always dreamed of having.  I would like to complete the project by putting a hottub in my backyard, however; I am not happy with the rate I  have been offered from GE to finance the spa.  I am paying cash for all other improvements, but this is the final phase and finishing touch to my happiness.  I am in the process of consolidating a lot of debt, and went through a minor period of financial woes, but through determination and hard work I have managed to rebound.  My income is fantastic, and I would pay cash for the item, but would like to reserve the money I have saved for future issues if they should arise.  I am a college graduate, responsible, and work for a very good company that is stable in this very unstable market.  I plan to repay this loan in less than 12 months with a 4th quarter bonus I will be receiving.  Thank you for your consideration.                                                                                                                                              1\n",
       "I'm looking to consolidate all of my outstanding credit card debt into one monthly payment with a lower interest rate.                                                                                                                                                                                                                                                                                                                                                                                                                                                                                                                                                                                                                                                                                                                                                                                                                                                                                                                                                                                    1\n",
       "I currently have a loan out with CashCall. The interest rate is 96%! At the time I took out the loan, it helped with a family crisis, but now the interest is crazy to be paying. I'd rather be paying my $200 a month to pay down a loan rather than just the interest.   Also, the remainder of my debt has interest rates ranging from 20 - 24%. This includes credit cards, a student loan, and some personal loans. So, I would like to consolidate the rest of my debt and pay a lower interest rate of 15%.  By doing this, I could lower my interest and my monthly payments and save at least $4000 over the next few years.  I do have a bankruptcy that was discharged 3 years ago due to having $40,000 in debt from an uninsured hospital stay. However, I've not missed a payment on anything since.  My credit report does from time time to time relist things as collections and then I have to dispute them as included in bankruptcy and they go back to being listed that way. I'm not sure why the status gets messed up sometimes.   Thank you for your time and consideration!     1\n",
       "I would like to pay off 3 different credit cards, at 12%, 17% and 22% (after initial 0% period is up).  It would be great to have everything under one loan, making it easier to pay off.  Also, once I've paid off or down the loan, I can start looking into buying a house.                                                                                                                                                                                                                                                                                                                                                                                                                                                                                                                                                                                                                                                                                                                                                                                                                            1\n",
       "Consolidate debt                                                                                                                                                                                                                                                                                                                                                                                                                                                                                                                                                                                                                                                                                                                                                                                                                                                                                                                                                                                                                                                                                          1\n",
       "Name: desc, dtype: int64"
      ]
     },
     "execution_count": 21,
     "metadata": {},
     "output_type": "execute_result"
    }
   ],
   "source": [
    "# only 23 not null values and 6 of them are space. simply drop it\n",
    "# in the 2014 data, there are more not null data in this column, you might want to drop it or classify them to null and not_null, short v.s. long\n",
    "# this part might be quite similar to the purpose feature, which is quite important.\n",
    "\n",
    "i=7\n",
    "feat = ob_feature[i]\n",
    "print feat\n",
    "print df[feat].isnull().sum()\n",
    "df[feat].value_counts()"
   ]
  },
  {
   "cell_type": "code",
   "execution_count": 22,
   "metadata": {},
   "outputs": [
    {
     "data": {
      "text/plain": [
       "23"
      ]
     },
     "execution_count": 22,
     "metadata": {},
     "output_type": "execute_result"
    }
   ],
   "source": [
    "len(df[df[feat].isnull() ==0][feat])"
   ]
  },
  {
   "cell_type": "code",
   "execution_count": 23,
   "metadata": {},
   "outputs": [
    {
     "name": "stdout",
     "output_type": "stream",
     "text": [
      "13860     I would like to pay off 3 different credit car...\n",
      "28606     I have problems with one of my loans what I ha...\n",
      "35660     I'm looking to consolidate all of my outstandi...\n",
      "44216     Hello, I have a credit card consolidation loan...\n",
      "46710                                                      \n",
      "50176                                                      \n",
      "68485                                                      \n",
      "98168     My wife and I are having our first child in Ma...\n",
      "116992                                                     \n",
      "123722    I recently married and since this was the seco...\n",
      "137210    Temporary cash flow challenges. Would like thi...\n",
      "176962      I am looking to pay off my credit card debts.  \n",
      "184425    Hi! So $5,500 doesn't sound like much to be de...\n",
      "201865    I developed poor credit in college due to not ...\n",
      "221592    1:1 Income to Debt ratio; this required excell...\n",
      "222565    This loan is to pay off a few debts and put me...\n",
      "251815                                                     \n",
      "265315                                                     \n",
      "286696    I currently have a loan out with CashCall. The...\n",
      "310835                                     Consolidate debt\n",
      "321225    This loan will be used solely to consolidate c...\n",
      "324818    I have recently purchased and built a new home...\n",
      "416801    To whom it may concern,     Hello, my name is ...\n",
      "Name: desc, dtype: object\n"
     ]
    }
   ],
   "source": [
    "print (df[df[feat].isnull() ==0][feat])"
   ]
  },
  {
   "cell_type": "code",
   "execution_count": 24,
   "metadata": {},
   "outputs": [
    {
     "name": "stdout",
     "output_type": "stream",
     "text": [
      "term\n",
      "0\n",
      " 36 months    0.744682\n",
      " 60 months    0.255318\n",
      "Name: term, dtype: float64\n"
     ]
    },
    {
     "data": {
      "text/plain": [
       " 36 months    323495\n",
       " 60 months    110912\n",
       "Name: term, dtype: int64"
      ]
     },
     "execution_count": 24,
     "metadata": {},
     "output_type": "execute_result"
    }
   ],
   "source": [
    "# only use 36 months data for our project\n",
    "i=8\n",
    "feat = ob_feature[i]\n",
    "print feat\n",
    "print df[feat].isnull().sum()\n",
    "print df.term.value_counts(normalize=True)\n",
    "df[feat].value_counts()"
   ]
  },
  {
   "cell_type": "code",
   "execution_count": 25,
   "metadata": {},
   "outputs": [
    {
     "name": "stdout",
     "output_type": "stream",
     "text": [
      "homeownership\n",
      "0\n"
     ]
    },
    {
     "data": {
      "text/plain": [
       "MORTGAGE    211516\n",
       "RENT        169744\n",
       "OWN          53037\n",
       "ANY            110\n",
       "Name: homeownership, dtype: int64"
      ]
     },
     "execution_count": 25,
     "metadata": {},
     "output_type": "execute_result"
    }
   ],
   "source": [
    "# one hot encoding, but ignore the 1 data point ANY?\n",
    "i=9\n",
    "feat = ob_feature[i]\n",
    "print feat\n",
    "print df[feat].isnull().sum()\n",
    "df[feat].value_counts()"
   ]
  },
  {
   "cell_type": "code",
   "execution_count": 26,
   "metadata": {},
   "outputs": [
    {
     "name": "stdout",
     "output_type": "stream",
     "text": [
      "addrstate\n",
      "0\n",
      "50 CA    57888\n",
      "TX    37036\n",
      "NY    35505\n",
      "FL    31727\n",
      "IL    17715\n",
      "NJ    15891\n",
      "OH    14999\n",
      "PA    14502\n",
      "GA    14459\n",
      "NC    12279\n",
      "VA    11687\n",
      "MI    11604\n",
      "AZ    10462\n",
      "MD    10071\n",
      "MA     9830\n",
      "CO     8798\n",
      "WA     8301\n",
      "MN     7699\n",
      "IN     7658\n",
      "TN     7272\n",
      "MO     6951\n",
      "CT     6794\n",
      "NV     6164\n",
      "WI     5791\n",
      "SC     5492\n",
      "AL     5329\n",
      "LA     4985\n",
      "OR     4669\n",
      "KY     4225\n",
      "OK     4061\n",
      "KS     3567\n",
      "AR     3335\n",
      "MS     2867\n",
      "UT     2796\n",
      "NM     2286\n",
      "NE     2116\n",
      "NH     2097\n",
      "HI     2019\n",
      "RI     1881\n",
      "ME     1409\n",
      "DE     1252\n",
      "ID     1225\n",
      "MT     1172\n",
      "ND     1051\n",
      "AK     1006\n",
      "DC      958\n",
      "VT      942\n",
      "WY      935\n",
      "SD      879\n",
      "WV      770\n",
      "Name: addrstate, dtype: int64\n"
     ]
    }
   ],
   "source": [
    "#50 states, can generate frequency and leave-one-out encoding\n",
    "i=10\n",
    "feat = ob_feature[i]\n",
    "print feat\n",
    "print df[feat].isnull().sum()\n",
    "print len(df[feat].value_counts()), df[feat].value_counts()"
   ]
  },
  {
   "cell_type": "code",
   "execution_count": 27,
   "metadata": {},
   "outputs": [
    {
     "name": "stdout",
     "output_type": "stream",
     "text": [
      "revolutil\n",
      "264\n",
      "1178 0%        1828\n",
      "57%        955\n",
      "55%        942\n",
      "48%        935\n",
      "61%        905\n",
      "59%        903\n",
      "58%        892\n",
      "54%        886\n",
      "51%        875\n",
      "44%        872\n",
      "56%        871\n",
      "49%        865\n",
      "50%        861\n",
      "62%        861\n",
      "45%        854\n",
      "53%        850\n",
      "64%        847\n",
      "60%        846\n",
      "43%        842\n",
      "63%        837\n",
      "47%        831\n",
      "46%        830\n",
      "38%        829\n",
      "42%        828\n",
      "68%        825\n",
      "66%        825\n",
      "65%        820\n",
      "39%        813\n",
      "52%        807\n",
      "41%        806\n",
      "          ... \n",
      "119%         1\n",
      "137.9%       1\n",
      "126.3%       1\n",
      "123.3%       1\n",
      "112.5%       1\n",
      "109.8%       1\n",
      "109.5%       1\n",
      "131.3%       1\n",
      "108.7%       1\n",
      "116%         1\n",
      "113%         1\n",
      "126.6%       1\n",
      "118.3%       1\n",
      "139.9%       1\n",
      "117.1%       1\n",
      "144.3%       1\n",
      "120.9%       1\n",
      "145%         1\n",
      "132.9%       1\n",
      "172%         1\n",
      "109.9%       1\n",
      "124.7%       1\n",
      "111.7%       1\n",
      "136.7%       1\n",
      "105.3%       1\n",
      "107.7%       1\n",
      "112.9%       1\n",
      "128%         1\n",
      "156.3%       1\n",
      "108.1%       1\n",
      "Name: revolutil, Length: 1178, dtype: int64\n"
     ]
    }
   ],
   "source": [
    "# has null value; 0% means?  over 100% means?\n",
    "i=11\n",
    "feat = ob_feature[i]\n",
    "print feat\n",
    "print df[feat].isnull().sum()\n",
    "print len(df[feat].value_counts()), df[feat].value_counts()"
   ]
  },
  {
   "cell_type": "code",
   "execution_count": 28,
   "metadata": {},
   "outputs": [
    {
     "name": "stdout",
     "output_type": "stream",
     "text": [
      "zipcode\n",
      "0\n",
      "911\n"
     ]
    }
   ],
   "source": [
    "i=12\n",
    "feat = ob_feature[i]\n",
    "print feat\n",
    "print df[feat].isnull().sum()\n",
    "print len(df[feat].value_counts()) #, df[feat].value_counts()"
   ]
  },
  {
   "cell_type": "code",
   "execution_count": 29,
   "metadata": {},
   "outputs": [
    {
     "name": "stdout",
     "output_type": "stream",
     "text": [
      "verificationstatus\n",
      "0\n",
      "3 Source Verified    181315\n",
      "Not Verified       126807\n",
      "Verified           126285\n",
      "Name: verificationstatus, dtype: int64 Source Verified    181315\n",
      "Not Verified       126807\n",
      "Verified           126285\n",
      "Name: verificationstatus, dtype: int64\n"
     ]
    }
   ],
   "source": [
    "# only keep first 3 digits, 866 values, use frequency and leave on out encoding\n",
    "i=13\n",
    "feat = ob_feature[i]\n",
    "print feat\n",
    "print df[feat].isnull().sum()\n",
    "print len(df[feat].value_counts()), df[feat].value_counts()[:5], df[feat].value_counts()[-5:]"
   ]
  },
  {
   "cell_type": "code",
   "execution_count": 30,
   "metadata": {},
   "outputs": [
    {
     "name": "stdout",
     "output_type": "stream",
     "text": [
      "emptitle\n",
      "28492\n",
      "121664 Teacher             8248\n",
      "Manager             7403\n",
      "Owner               5007\n",
      "Registered Nurse    3381\n",
      "RN                  3282\n",
      "Name: emptitle, dtype: int64\n"
     ]
    }
   ],
   "source": [
    "# Null values means not working? \n",
    "# can do frequency and simple NLP\n",
    "i=14\n",
    "feat = ob_feature[i]\n",
    "print feat\n",
    "print df[feat].isnull().sum()\n",
    "print len(df[feat].value_counts()) , df[feat].value_counts()[:5] #, df[feat].value_counts()[-5:]"
   ]
  },
  {
   "cell_type": "code",
   "execution_count": 31,
   "metadata": {},
   "outputs": [
    {
     "name": "stdout",
     "output_type": "stream",
     "text": [
      "emplength\n",
      "0\n",
      "12 10+ years    149972\n",
      "2 years       39601\n",
      "3 years       34734\n",
      "< 1 year      31918\n",
      "1 year        29156\n",
      "n/a           28214\n",
      "5 years       26475\n",
      "4 years       25820\n",
      "8 years       18774\n",
      "6 years       18656\n",
      "9 years       16884\n",
      "7 years       14203\n",
      "Name: emplength, dtype: int64\n"
     ]
    }
   ],
   "source": [
    "# n/a consistent with n/a at employment title\n",
    "i=15\n",
    "feat = ob_feature[i]\n",
    "print feat\n",
    "print df[feat].isnull().sum()\n",
    "print len(df[feat].value_counts()) , df[feat].value_counts()[:30]#, df[feat].value_counts()[-10:]"
   ]
  },
  {
   "cell_type": "code",
   "execution_count": 32,
   "metadata": {},
   "outputs": [
    {
     "name": "stdout",
     "output_type": "stream",
     "text": [
      "purpose\n",
      "0\n",
      "13 debt_consolidation    248899\n",
      "credit_card            91609\n",
      "home_improvement       31182\n",
      "other                  28469\n",
      "major_purchase         10406\n",
      "medical                 5440\n",
      "car                     4813\n",
      "small_business          4790\n",
      "vacation                3262\n",
      "moving                  3229\n",
      "house                   2002\n",
      "renewable_energy         304\n",
      "Name: purpose, dtype: int64\n"
     ]
    }
   ],
   "source": [
    "# 12 values, n/a, <1 year, 1~9 year(s), 10+ years, convert to num\n",
    "i=16\n",
    "feat = ob_feature[i]\n",
    "print feat\n",
    "print df[feat].isnull().sum()\n",
    "print len(df[feat].value_counts()) , df[feat].value_counts()[:12] #, df[feat].value_counts()[-10:]"
   ]
  },
  {
   "cell_type": "code",
   "execution_count": 33,
   "metadata": {},
   "outputs": [
    {
     "name": "stdout",
     "output_type": "stream",
     "text": [
      "issued\n",
      "0\n",
      "12 Mar-2016    61992\n",
      "Feb-2016    39529\n",
      "Apr-2016    36432\n",
      "Aug-2016    36280\n",
      "Dec-2016    36183\n",
      "Jul-2016    34696\n",
      "Nov-2016    34591\n",
      "Jun-2016    33019\n",
      "Oct-2016    32772\n",
      "Jan-2016    32366\n",
      "May-2016    28403\n",
      "Sep-2016    28144\n",
      "Name: issued, dtype: int64\n"
     ]
    }
   ],
   "source": [
    "# more than 50% debt_consolidation\n",
    "i=17\n",
    "feat = ob_feature[i]\n",
    "print feat\n",
    "print df[feat].isnull().sum()\n",
    "print len(df[feat].value_counts()) , df[feat].value_counts()[:15] #, df[feat].value_counts()[-10:]"
   ]
  },
  {
   "cell_type": "code",
   "execution_count": 34,
   "metadata": {},
   "outputs": [
    {
     "name": "stdout",
     "output_type": "stream",
     "text": [
      "loanstatus\n",
      "0\n",
      "7 Fully Paid            290622\n",
      "Charged Off            74993\n",
      "Current                64730\n",
      "Late (31-120 days)      2589\n",
      "In Grace Period         1053\n",
      "Late (16-30 days)        417\n",
      "Default                    3\n",
      "Name: loanstatus, dtype: int64\n"
     ]
    }
   ],
   "source": [
    "i=18\n",
    "feat = ob_feature[i]\n",
    "print feat\n",
    "print df[feat].isnull().sum()\n",
    "print len(df[feat].value_counts()) , df[feat].value_counts()[:15] #, df[feat].value_counts()[-10:]"
   ]
  },
  {
   "cell_type": "markdown",
   "metadata": {},
   "source": [
    "## For an issued loan, fundedamnt=loanamnt, drop fundedamnt"
   ]
  },
  {
   "cell_type": "code",
   "execution_count": 35,
   "metadata": {
    "scrolled": true
   },
   "outputs": [
    {
     "data": {
      "text/html": [
       "<div>\n",
       "<style>\n",
       "    .dataframe thead tr:only-child th {\n",
       "        text-align: right;\n",
       "    }\n",
       "\n",
       "    .dataframe thead th {\n",
       "        text-align: left;\n",
       "    }\n",
       "\n",
       "    .dataframe tbody tr th {\n",
       "        vertical-align: top;\n",
       "    }\n",
       "</style>\n",
       "<table border=\"1\" class=\"dataframe\">\n",
       "  <thead>\n",
       "    <tr style=\"text-align: right;\">\n",
       "      <th></th>\n",
       "      <th>fundedamnt</th>\n",
       "      <th>loanamnt</th>\n",
       "    </tr>\n",
       "  </thead>\n",
       "  <tbody>\n",
       "    <tr>\n",
       "      <th>0</th>\n",
       "      <td>6000.0</td>\n",
       "      <td>6000.0</td>\n",
       "    </tr>\n",
       "    <tr>\n",
       "      <th>1</th>\n",
       "      <td>21000.0</td>\n",
       "      <td>21000.0</td>\n",
       "    </tr>\n",
       "    <tr>\n",
       "      <th>2</th>\n",
       "      <td>7200.0</td>\n",
       "      <td>7200.0</td>\n",
       "    </tr>\n",
       "    <tr>\n",
       "      <th>3</th>\n",
       "      <td>11200.0</td>\n",
       "      <td>11200.0</td>\n",
       "    </tr>\n",
       "    <tr>\n",
       "      <th>4</th>\n",
       "      <td>12000.0</td>\n",
       "      <td>12000.0</td>\n",
       "    </tr>\n",
       "    <tr>\n",
       "      <th>5</th>\n",
       "      <td>11425.0</td>\n",
       "      <td>11425.0</td>\n",
       "    </tr>\n",
       "    <tr>\n",
       "      <th>6</th>\n",
       "      <td>30000.0</td>\n",
       "      <td>30000.0</td>\n",
       "    </tr>\n",
       "    <tr>\n",
       "      <th>7</th>\n",
       "      <td>20625.0</td>\n",
       "      <td>20625.0</td>\n",
       "    </tr>\n",
       "    <tr>\n",
       "      <th>8</th>\n",
       "      <td>19200.0</td>\n",
       "      <td>19200.0</td>\n",
       "    </tr>\n",
       "    <tr>\n",
       "      <th>9</th>\n",
       "      <td>4000.0</td>\n",
       "      <td>4000.0</td>\n",
       "    </tr>\n",
       "  </tbody>\n",
       "</table>\n",
       "</div>"
      ],
      "text/plain": [
       "   fundedamnt  loanamnt\n",
       "0      6000.0    6000.0\n",
       "1     21000.0   21000.0\n",
       "2      7200.0    7200.0\n",
       "3     11200.0   11200.0\n",
       "4     12000.0   12000.0\n",
       "5     11425.0   11425.0\n",
       "6     30000.0   30000.0\n",
       "7     20625.0   20625.0\n",
       "8     19200.0   19200.0\n",
       "9      4000.0    4000.0"
      ]
     },
     "execution_count": 35,
     "metadata": {},
     "output_type": "execute_result"
    },
    {
     "data": {
      "image/png": "[encoded data removed]",
      "text/plain": [
       "<matplotlib.figure.Figure at 0x1043fb70>"
      ]
     },
     "metadata": {},
     "output_type": "display_data"
    }
   ],
   "source": [
    "df.ratio=df.fundedamnt/df.loanamnt.astype(float,3)\n",
    "df.ratio.hist(bins=100)\n",
    "df[['fundedamnt','loanamnt']][:10]"
   ]
  },
  {
   "cell_type": "markdown",
   "metadata": {},
   "source": [
    "##### Histogram"
   ]
  },
  {
   "cell_type": "code",
   "execution_count": 36,
   "metadata": {},
   "outputs": [
    {
     "data": {
      "text/plain": [
       "<matplotlib.axes._subplots.AxesSubplot at 0xc617ba8>"
      ]
     },
     "execution_count": 36,
     "metadata": {},
     "output_type": "execute_result"
    },
    {
     "data": {
      "image/png": "[encoded data removed]",
      "text/plain": [
       "<matplotlib.figure.Figure at 0x289244a8>"
      ]
     },
     "metadata": {},
     "output_type": "display_data"
    }
   ],
   "source": [
    "df.installment.hist(bins=100)"
   ]
  },
  {
   "cell_type": "markdown",
   "metadata": {},
   "source": [
    "##### Meanr response"
   ]
  },
  {
   "cell_type": "code",
   "execution_count": 37,
   "metadata": {
    "collapsed": true
   },
   "outputs": [],
   "source": [
    "df = df.query(\"loanstatus == 'Fully Paid' or loanstatus == 'Charged Off' \")"
   ]
  },
  {
   "cell_type": "code",
   "execution_count": 38,
   "metadata": {
    "collapsed": true
   },
   "outputs": [],
   "source": [
    "df['loanstatus'] = df.loanstatus.map({\"Charged Off\": 1, \"Fully Paid\": 0})"
   ]
  },
  {
   "cell_type": "code",
   "execution_count": null,
   "metadata": {
    "collapsed": true
   },
   "outputs": [],
   "source": []
  },
  {
   "cell_type": "code",
   "execution_count": 39,
   "metadata": {
    "collapsed": true
   },
   "outputs": [],
   "source": [
    "dummy_list = [\"emplength\", \"verificationstatus\", \"delinq2yrs\", \"addrstate\", 'homeownership', \n",
    "              \"grade\", \"subgrade\", \"openacc\", 'applicationtype', 'initialliststatus']\n",
    "n = len(dummy_list)"
   ]
  },
  {
   "cell_type": "code",
   "execution_count": 55,
   "metadata": {},
   "outputs": [
    {
     "data": {
      "text/plain": [
       "10"
      ]
     },
     "execution_count": 55,
     "metadata": {},
     "output_type": "execute_result"
    }
   ],
   "source": [
    "n"
   ]
  },
  {
   "cell_type": "code",
   "execution_count": 59,
   "metadata": {},
   "outputs": [
    {
     "data": {
      "text/plain": [
       "<matplotlib.axes._subplots.AxesSubplot at 0x1a8bfb70>"
      ]
     },
     "execution_count": 59,
     "metadata": {},
     "output_type": "execute_result"
    },
    {
     "data": {
      "image/png": "[encoded data removed]",
      "text/plain": [
       "<matplotlib.figure.Figure at 0x211c7ac8>"
      ]
     },
     "metadata": {},
     "output_type": "display_data"
    }
   ],
   "source": [
    "sns.barplot(x=dummy_list[0], y='loanstatus', data=df)"
   ]
  },
  {
   "cell_type": "code",
   "execution_count": 40,
   "metadata": {},
   "outputs": [
    {
     "data": {
      "text/plain": [
       "<matplotlib.axes._subplots.AxesSubplot at 0x28978908>"
      ]
     },
     "execution_count": 40,
     "metadata": {},
     "output_type": "execute_result"
    },
    {
     "data": {
      "image/png": "[encoded data removed]",
      "text/plain": [
       "<matplotlib.figure.Figure at 0x11bcaac8>"
      ]
     },
     "metadata": {},
     "output_type": "display_data"
    }
   ],
   "source": [
    "# why verified incomes gives higher default rates?\n",
    "# not varified means not necessary to verify?\n",
    "\n",
    "sns.barplot(x=dummy_list[1], y='loanstatus', data=df)"
   ]
  },
  {
   "cell_type": "code",
   "execution_count": 41,
   "metadata": {},
   "outputs": [
    {
     "data": {
      "text/plain": [
       "<matplotlib.axes._subplots.AxesSubplot at 0x28958a58>"
      ]
     },
     "execution_count": 41,
     "metadata": {},
     "output_type": "execute_result"
    },
    {
     "data": {
      "image/png": "[encoded data removed]",
      "text/plain": [
       "<matplotlib.figure.Figure at 0x63fc2e8>"
      ]
     },
     "metadata": {},
     "output_type": "display_data"
    }
   ],
   "source": [
    "sns.barplot(x=dummy_list[2], y='loanstatus', data=df)"
   ]
  },
  {
   "cell_type": "code",
   "execution_count": 42,
   "metadata": {},
   "outputs": [
    {
     "data": {
      "text/plain": [
       "<matplotlib.axes._subplots.AxesSubplot at 0x25e6d668>"
      ]
     },
     "execution_count": 42,
     "metadata": {},
     "output_type": "execute_result"
    },
    {
     "data": {
      "image/png": "[encoded data removed]",
      "text/plain": [
       "<matplotlib.figure.Figure at 0x2828f160>"
      ]
     },
     "metadata": {},
     "output_type": "display_data"
    }
   ],
   "source": [
    "sns.barplot(x=dummy_list[3], y='loanstatus', data=df)"
   ]
  },
  {
   "cell_type": "code",
   "execution_count": 43,
   "metadata": {},
   "outputs": [
    {
     "data": {
      "text/plain": [
       "<matplotlib.axes._subplots.AxesSubplot at 0x2423bba8>"
      ]
     },
     "execution_count": 43,
     "metadata": {},
     "output_type": "execute_result"
    },
    {
     "data": {
      "image/png": "[encoded data removed]",
      "text/plain": [
       "<matplotlib.figure.Figure at 0x2828f4e0>"
      ]
     },
     "metadata": {},
     "output_type": "display_data"
    }
   ],
   "source": [
    "sns.barplot(x=dummy_list[4], y='loanstatus', data=df)"
   ]
  },
  {
   "cell_type": "code",
   "execution_count": 44,
   "metadata": {},
   "outputs": [
    {
     "data": {
      "text/plain": [
       "<matplotlib.axes._subplots.AxesSubplot at 0x2018b160>"
      ]
     },
     "execution_count": 44,
     "metadata": {},
     "output_type": "execute_result"
    },
    {
     "data": {
      "image/png": "[encoded data removed]",
      "text/plain": [
       "<matplotlib.figure.Figure at 0x216d3a20>"
      ]
     },
     "metadata": {},
     "output_type": "display_data"
    }
   ],
   "source": [
    "sns.barplot(x=dummy_list[5], y='loanstatus', data=df, order = ['A', 'B', 'C', 'D', 'E', 'F', 'G'])"
   ]
  },
  {
   "cell_type": "code",
   "execution_count": 45,
   "metadata": {},
   "outputs": [
    {
     "data": {
      "text/plain": [
       "array(['A1', 'A2', 'A3', 'A4', 'A5', 'B1', 'B2', 'B3', 'B4', 'B5', 'C1',\n",
       "       'C2', 'C3', 'C4', 'C5', 'D1', 'D2', 'D3', 'D4', 'D5', 'E1', 'E2',\n",
       "       'E3', 'E4', 'E5', 'F1', 'F2', 'F3', 'F4', 'F5', 'G1', 'G2', 'G3',\n",
       "       'G4', 'G5'], dtype=object)"
      ]
     },
     "execution_count": 45,
     "metadata": {},
     "output_type": "execute_result"
    }
   ],
   "source": [
    "np.sort(df.subgrade.unique())"
   ]
  },
  {
   "cell_type": "code",
   "execution_count": 61,
   "metadata": {},
   "outputs": [
    {
     "data": {
      "text/plain": [
       "<matplotlib.axes._subplots.AxesSubplot at 0xff2e2b0>"
      ]
     },
     "execution_count": 61,
     "metadata": {},
     "output_type": "execute_result"
    },
    {
     "data": {
      "image/png": "[encoded data removed]",
      "text/plain": [
       "<matplotlib.figure.Figure at 0x1d34e470>"
      ]
     },
     "metadata": {},
     "output_type": "display_data"
    }
   ],
   "source": [
    "sns.barplot(x=dummy_list[6], y='loanstatus', data=df, order = np.sort(df.subgrade.unique()))"
   ]
  },
  {
   "cell_type": "code",
   "execution_count": 60,
   "metadata": {
    "scrolled": true
   },
   "outputs": [
    {
     "data": {
      "text/plain": [
       "<matplotlib.axes._subplots.AxesSubplot at 0x13ec5780>"
      ]
     },
     "execution_count": 60,
     "metadata": {},
     "output_type": "execute_result"
    },
    {
     "data": {
      "image/png": "[encoded data removed]",
      "text/plain": [
       "<matplotlib.figure.Figure at 0x211c7518>"
      ]
     },
     "metadata": {},
     "output_type": "display_data"
    }
   ],
   "source": [
    "sns.barplot(x=dummy_list[7], y='loanstatus', data=df)"
   ]
  },
  {
   "cell_type": "code",
   "execution_count": 69,
   "metadata": {},
   "outputs": [
    {
     "data": {
      "text/plain": [
       "<matplotlib.axes._subplots.AxesSubplot at 0x16031588>"
      ]
     },
     "execution_count": 69,
     "metadata": {},
     "output_type": "execute_result"
    },
    {
     "data": {
      "image/png": "[encoded data removed]",
      "text/plain": [
       "<matplotlib.figure.Figure at 0x2008e898>"
      ]
     },
     "metadata": {},
     "output_type": "display_data"
    }
   ],
   "source": [
    "df.openacc.hist(bins=20)"
   ]
  },
  {
   "cell_type": "code",
   "execution_count": 77,
   "metadata": {},
   "outputs": [
    {
     "data": {
      "text/plain": [
       "<matplotlib.axes._subplots.AxesSubplot at 0x247edb70>"
      ]
     },
     "execution_count": 77,
     "metadata": {},
     "output_type": "execute_result"
    },
    {
     "data": {
      "image/png": "[encoded data removed]",
      "text/plain": [
       "<matplotlib.figure.Figure at 0x21199128>"
      ]
     },
     "metadata": {},
     "output_type": "display_data"
    }
   ],
   "source": [
    "sns.barplot(x=dummy_list[8], y='loanstatus', data=df)"
   ]
  },
  {
   "cell_type": "code",
   "execution_count": 76,
   "metadata": {},
   "outputs": [
    {
     "data": {
      "text/plain": [
       "<matplotlib.axes._subplots.AxesSubplot at 0x24186828>"
      ]
     },
     "execution_count": 76,
     "metadata": {},
     "output_type": "execute_result"
    },
    {
     "data": {
      "image/png": "[encoded data removed]",
      "text/plain": [
       "<matplotlib.figure.Figure at 0x24186940>"
      ]
     },
     "metadata": {},
     "output_type": "display_data"
    }
   ],
   "source": [
    "sns.barplot(x=dummy_list[9], y='loanstatus', data=df)"
   ]
  },
  {
   "cell_type": "code",
   "execution_count": 47,
   "metadata": {
    "collapsed": true
   },
   "outputs": [],
   "source": [
    "def countinuous_variable_plot(feat_name):\n",
    "    sns.set_style(\"whitegrid\", {'axes.edgecolor': '0'})\n",
    "    factor = pd.qcut(df[feat_name], 5, labels = False) #groups the data act on groups                                                               #seperately\n",
    "    table = df.groupby([factor, 'loanstatus']).size() #gets group size counts, hashed by the two variables\n",
    "    table = table.unstack('loanstatus') #splits the data into 2 columns, 0, 1, each indexed by the\n",
    "    normedtable = table.div(table.sum(1), axis=0) #divides the counts by the totals\n",
    "    fig, ax = plt.subplots(1, 1, figsize=(12,6))\n",
    "    normedtable.ix[:, 1].plot(kind = 'bar', alpha=0.9, color =\"#FD2C10\", ax = ax )\n",
    "    ax.set_xlabel(\"%s percentile\" % feat_name , fontsize = 20)\n",
    "    ax.set_ylabel('Default Rate', fontsize = 20)\n",
    "    x = range(5)\n",
    "    labels = ['20%tile', '40%tile', '60%tile', '80%tile', '100%tile']\n",
    "    plt.xticks(x, labels, rotation='0', fontsize = 18)\n",
    "    sns.despine()\n",
    "    ax.set_title(\"Loan Performance with respect to %s\" % feat_name )\n",
    "    fig.savefig('age.jpg')"
   ]
  },
  {
   "cell_type": "code",
   "execution_count": 48,
   "metadata": {},
   "outputs": [
    {
     "name": "stderr",
     "output_type": "stream",
     "text": [
      "C:\\Users\\Weiqun\\Anaconda2\\lib\\site-packages\\ipykernel\\__main__.py:8: DeprecationWarning: \n",
      ".ix is deprecated. Please use\n",
      ".loc for label based indexing or\n",
      ".iloc for positional indexing\n",
      "\n",
      "See the documentation here:\n",
      "http://pandas.pydata.org/pandas-docs/stable/indexing.html#ix-indexer-is-deprecated\n"
     ]
    },
    {
     "data": {
      "image/png": "[encoded data removed]",
      "text/plain": [
       "<matplotlib.figure.Figure at 0x13d0e4a8>"
      ]
     },
     "metadata": {},
     "output_type": "display_data"
    }
   ],
   "source": [
    "countinuous_variable_plot('annualinc')"
   ]
  },
  {
   "cell_type": "code",
   "execution_count": 49,
   "metadata": {},
   "outputs": [
    {
     "name": "stderr",
     "output_type": "stream",
     "text": [
      "C:\\Users\\Weiqun\\Anaconda2\\lib\\site-packages\\ipykernel\\__main__.py:8: DeprecationWarning: \n",
      ".ix is deprecated. Please use\n",
      ".loc for label based indexing or\n",
      ".iloc for positional indexing\n",
      "\n",
      "See the documentation here:\n",
      "http://pandas.pydata.org/pandas-docs/stable/indexing.html#ix-indexer-is-deprecated\n"
     ]
    },
    {
     "data": {
      "image/png": "[encoded data removed]",
      "text/plain": [
       "<matplotlib.figure.Figure at 0x27b190b8>"
      ]
     },
     "metadata": {},
     "output_type": "display_data"
    }
   ],
   "source": [
    "countinuous_variable_plot('dti')"
   ]
  },
  {
   "cell_type": "code",
   "execution_count": 50,
   "metadata": {},
   "outputs": [
    {
     "name": "stderr",
     "output_type": "stream",
     "text": [
      "C:\\Users\\Weiqun\\Anaconda2\\lib\\site-packages\\ipykernel\\__main__.py:8: DeprecationWarning: \n",
      ".ix is deprecated. Please use\n",
      ".loc for label based indexing or\n",
      ".iloc for positional indexing\n",
      "\n",
      "See the documentation here:\n",
      "http://pandas.pydata.org/pandas-docs/stable/indexing.html#ix-indexer-is-deprecated\n"
     ]
    },
    {
     "data": {
      "image/png": "[encoded data removed]",
      "text/plain": [
       "<matplotlib.figure.Figure at 0x1a0ad2e8>"
      ]
     },
     "metadata": {},
     "output_type": "display_data"
    }
   ],
   "source": [
    "countinuous_variable_plot('revolbal')"
   ]
  },
  {
   "cell_type": "code",
   "execution_count": 51,
   "metadata": {},
   "outputs": [
    {
     "name": "stderr",
     "output_type": "stream",
     "text": [
      "C:\\Users\\Weiqun\\Anaconda2\\lib\\site-packages\\ipykernel\\__main__.py:8: DeprecationWarning: \n",
      ".ix is deprecated. Please use\n",
      ".loc for label based indexing or\n",
      ".iloc for positional indexing\n",
      "\n",
      "See the documentation here:\n",
      "http://pandas.pydata.org/pandas-docs/stable/indexing.html#ix-indexer-is-deprecated\n"
     ]
    },
    {
     "data": {
      "image/png": "[encoded data removed]",
      "text/plain": [
       "<matplotlib.figure.Figure at 0x208a41d0>"
      ]
     },
     "metadata": {},
     "output_type": "display_data"
    }
   ],
   "source": [
    "countinuous_variable_plot('tothicredlim')"
   ]
  },
  {
   "cell_type": "code",
   "execution_count": 52,
   "metadata": {},
   "outputs": [
    {
     "name": "stderr",
     "output_type": "stream",
     "text": [
      "C:\\Users\\Weiqun\\Anaconda2\\lib\\site-packages\\ipykernel\\__main__.py:8: DeprecationWarning: \n",
      ".ix is deprecated. Please use\n",
      ".loc for label based indexing or\n",
      ".iloc for positional indexing\n",
      "\n",
      "See the documentation here:\n",
      "http://pandas.pydata.org/pandas-docs/stable/indexing.html#ix-indexer-is-deprecated\n"
     ]
    },
    {
     "data": {
      "image/png": "[encoded data removed]",
      "text/plain": [
       "<matplotlib.figure.Figure at 0x13085470>"
      ]
     },
     "metadata": {},
     "output_type": "display_data"
    }
   ],
   "source": [
    "countinuous_variable_plot('totalbalexmort')"
   ]
  },
  {
   "cell_type": "code",
   "execution_count": 53,
   "metadata": {},
   "outputs": [
    {
     "name": "stderr",
     "output_type": "stream",
     "text": [
      "C:\\Users\\Weiqun\\Anaconda2\\lib\\site-packages\\ipykernel\\__main__.py:8: DeprecationWarning: \n",
      ".ix is deprecated. Please use\n",
      ".loc for label based indexing or\n",
      ".iloc for positional indexing\n",
      "\n",
      "See the documentation here:\n",
      "http://pandas.pydata.org/pandas-docs/stable/indexing.html#ix-indexer-is-deprecated\n"
     ]
    },
    {
     "data": {
      "image/png": "[encoded data removed]",
      "text/plain": [
       "<matplotlib.figure.Figure at 0x16318588>"
      ]
     },
     "metadata": {},
     "output_type": "display_data"
    }
   ],
   "source": [
    "countinuous_variable_plot('totalbclimit')"
   ]
  },
  {
   "cell_type": "code",
   "execution_count": 54,
   "metadata": {},
   "outputs": [
    {
     "name": "stderr",
     "output_type": "stream",
     "text": [
      "C:\\Users\\Weiqun\\Anaconda2\\lib\\site-packages\\ipykernel\\__main__.py:8: DeprecationWarning: \n",
      ".ix is deprecated. Please use\n",
      ".loc for label based indexing or\n",
      ".iloc for positional indexing\n",
      "\n",
      "See the documentation here:\n",
      "http://pandas.pydata.org/pandas-docs/stable/indexing.html#ix-indexer-is-deprecated\n"
     ]
    },
    {
     "data": {
      "image/png": "[encoded data removed]",
      "text/plain": [
       "<matplotlib.figure.Figure at 0x13ef2e10>"
      ]
     },
     "metadata": {},
     "output_type": "display_data"
    }
   ],
   "source": [
    "countinuous_variable_plot('totalilhighcreditlimit')"
   ]
  },
  {
   "cell_type": "code",
   "execution_count": null,
   "metadata": {
    "collapsed": true
   },
   "outputs": [],
   "source": []
  }
 ],
 "metadata": {
  "anaconda-cloud": {},
  "kernelspec": {
   "display_name": "Python [conda root]",
   "language": "python",
   "name": "conda-root-py"
  },
  "language_info": {
   "codemirror_mode": {
    "name": "ipython",
    "version": 2
   },
   "file_extension": ".py",
   "mimetype": "text/x-python",
   "name": "python",
   "nbconvert_exporter": "python",
   "pygments_lexer": "ipython2",
   "version": "2.7.13"
  }
 },
 "nbformat": 4,
 "nbformat_minor": 1
}
